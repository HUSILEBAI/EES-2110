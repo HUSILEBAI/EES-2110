{
  "nbformat": 4,
  "nbformat_minor": 0,
  "metadata": {
    "colab": {
      "provenance": [],
      "toc_visible": true,
      "authorship_tag": "ABX9TyOhMN80zm86eTRt6VGmSK+8",
      "include_colab_link": true
    },
    "kernelspec": {
      "name": "python3",
      "display_name": "Python 3"
    },
    "language_info": {
      "name": "python"
    }
  },
  "cells": [
    {
      "cell_type": "markdown",
      "metadata": {
        "id": "view-in-github",
        "colab_type": "text"
      },
      "source": [
        "<a href=\"https://colab.research.google.com/github/HUSILEBAI/EES-2110/blob/main/EES_2110_Climate_Maps.ipynb\" target=\"_parent\"><img src=\"https://colab.research.google.com/assets/colab-badge.svg\" alt=\"Open In Colab\"/></a>"
      ]
    },
    {
      "cell_type": "markdown",
      "source": [
        "# EES 2110 Intro to Climate Change Class: Google Colab Exercise 2\n",
        "\n",
        "Welcome to Part 2 of the Climate Change Python Exercise!\n",
        "\n",
        "In this Google Colab notebook, you will learn how to create maps using Cartopy and analyze real-world climate data. The exercises are designed to help you understand basic projections and perform near-surface air temperature analysis.\n",
        "\n",
        "## Section 1: Basic Projections\n",
        "\n",
        "In this section, you will learn how to create maps using [Cartopy](https://scitools.org.uk/cartopy/docs/latest/).\n",
        "\n",
        "### Step 1: Install Cartopy\n",
        "\n",
        "First, we need to install the Cartopy library if it is not already installed. Execute the following code block to install Cartopy and its dependencies:\n",
        "\n",
        "```python\n",
        "# Install Cartopy (if not already installed)\n",
        "!apt-get -qq install python-cartopy python3-cartopy  # Install system dependencies\n",
        "!pip install cartopy\n",
        "\n"
      ],
      "metadata": {
        "id": "c3Z1sUeebpuZ"
      }
    },
    {
      "cell_type": "code",
      "execution_count": null,
      "metadata": {
        "id": "xo2rfZ4dZNam"
      },
      "outputs": [],
      "source": [
        "# Install Cartopy (if not already installed)\n",
        "!apt-get -qq install python-cartopy python3-cartopy  # Install system dependencies\n",
        "!pip install cartopy\n"
      ]
    },
    {
      "cell_type": "code",
      "source": [
        "# prompt: ax.coastlines(resolution='110m')\n",
        "# ax.add_feature(cfeature.BORDERS, linestyle=':')\n",
        "\n",
        "import cartopy.crs as ccrs\n",
        "import cartopy.feature as cfeature\n",
        "import matplotlib.pyplot as plt\n",
        "\n",
        "# Create a figure and an axes object with a specific projection\n",
        "fig = plt.figure(figsize=(10, 5))\n",
        "ax = fig.add_subplot(1, 1, 1, projection=ccrs.PlateCarree())\n",
        "\n",
        "# Add coastlines and borders\n",
        "ax.coastlines(resolution='110m')\n",
        "ax.add_feature(cfeature.BORDERS, linestyle=':')\n"
      ],
      "metadata": {
        "id": "2kFNB0XyDUZV"
      },
      "execution_count": null,
      "outputs": []
    },
    {
      "cell_type": "markdown",
      "source": [
        "### Step 2: Create a Basic Map\n",
        "\n",
        "Now, let's create a basic map using the Orthographic projection. This is a type of map projection that shows half of the globe as viewed from outer space."
      ],
      "metadata": {
        "id": "RFoojQlKd2dh"
      }
    },
    {
      "cell_type": "code",
      "source": [
        "import matplotlib.pyplot as plt\n",
        "import cartopy.crs as ccrs\n",
        "import cartopy.feature as cfeature\n",
        "\n",
        "# Create a new figure with a Cartopy Orthographic projection\n",
        "plt.figure(figsize=(10, 8))\n",
        "\n",
        "# Set up the map with Orthographic projection centered at 0°N, 0°E\n",
        "ax = plt.axes(projection=ccrs.Orthographic(central_longitude=0, central_latitude=30))\n",
        "\n",
        "# Add coastlines and country borders with higher resolution\n",
        "ax.coastlines(resolution='110m')\n",
        "ax.add_feature(cfeature.BORDERS, linestyle=':')\n",
        "\n",
        "# Add a finer grid (every 10 degrees)\n",
        "gl = ax.gridlines(draw_labels=True, linewidth=1, color='gray', alpha=0.5, linestyle='--')\n",
        "gl.xlocator = plt.MultipleLocator(10)\n",
        "gl.ylocator = plt.MultipleLocator(10)\n",
        "\n",
        "# Mask the land with a light gray color\n",
        "ax.add_feature(cfeature.LAND, facecolor='black')\n",
        "# Add ocean with a light blue color\n",
        "# ax.add_feature(cfeature.OCEAN, facecolor='blue')\n",
        "\n",
        "# Set the title and show the plot\n",
        "# plt.title('Planet Earth with Fine Grid and Masked Land (Orthographic Projection)')\n",
        "plt.show()\n"
      ],
      "metadata": {
        "id": "APCe-PZ4agde"
      },
      "execution_count": null,
      "outputs": []
    },
    {
      "cell_type": "markdown",
      "source": [
        "### Exercise 1\n",
        "\n",
        "Try modifying the map such that the land is shown in a different color (e.g., green) and the ocean is shown in ligh blue. Uncomment the line that adds the ocean feature and modify the colors as needed."
      ],
      "metadata": {
        "id": "ggc_jtR_eUph"
      }
    },
    {
      "cell_type": "code",
      "source": [
        "# Your code for Exercise 1\n",
        "\n"
      ],
      "metadata": {
        "id": "5L076eLTenkx"
      },
      "execution_count": null,
      "outputs": []
    },
    {
      "cell_type": "markdown",
      "source": [
        "## Section 2: Real-World Data Analysis\n",
        "\n",
        "In this section, you will download and analysis near-surface air temperature data."
      ],
      "metadata": {
        "id": "BPjFhebLb-Rb"
      }
    },
    {
      "cell_type": "markdown",
      "source": [
        "### Step 1: Download climate data\n",
        "\n",
        "We will download near-surface (2-m) air temperature data from [NCEP/DOE Reanalysis II](https://psl.noaa.gov/data/gridded/data.ncep.reanalysis2.html). Run the following command to download the data file:\n"
      ],
      "metadata": {
        "id": "yBPiahBra8PC"
      }
    },
    {
      "cell_type": "code",
      "source": [
        "# Download the cliamte data\n",
        "!curl -O -C - https://downloads.psl.noaa.gov/Datasets/ncep.reanalysis2/Monthlies/gaussian_grid/air.2m.mon.mean.nc\n"
      ],
      "metadata": {
        "id": "VSlJpFInasZl"
      },
      "execution_count": null,
      "outputs": []
    },
    {
      "cell_type": "markdown",
      "source": [
        "### Step 2: Read Climate Data\n",
        "\n",
        "Use [xarray](https://xarray.dev/) to read the downloaded climate data. This dataset contains monthly mean near-surface air temperature values.\n",
        "\n"
      ],
      "metadata": {
        "id": "JkQ9w4gFbNW3"
      }
    },
    {
      "cell_type": "code",
      "source": [
        "import xarray as xr\n",
        "\n",
        "# File name\n",
        "file_name = \"air.2m.mon.mean.nc\"\n",
        "\n",
        "# Read the data\n",
        "t2_dat = xr.open_dataset(file_name)\n",
        "# Reverse the latitude array to ensure that the data is correctly oriented.\n",
        "t2_dat = t2_dat.isel(lat=slice(None, None, -1))\n",
        "t2_dat"
      ],
      "metadata": {
        "id": "nukRcthEbLZo"
      },
      "execution_count": null,
      "outputs": []
    },
    {
      "cell_type": "markdown",
      "source": [
        "### Step 3: Extract Climate Data\n",
        "\n",
        "Next, we will extract the temperature data (air_dat) for a specific time period (1980-2023).\n",
        "\n",
        "Compute the mean annual temperature across this period."
      ],
      "metadata": {
        "id": "4WoXRbv5bnD2"
      }
    },
    {
      "cell_type": "code",
      "source": [
        "# Extract latitude and longitude\n",
        "lat = t2_dat.lat\n",
        "lon = t2_dat.lon\n",
        "\n",
        "# Extract air temperature data\n",
        "air_dat = t2_dat.air\n",
        "\n",
        "# Subset data for the time period 1980-2023\n",
        "air_dat_subset = air_dat.where((air_dat['time.year'] >= 1980) & (air_dat['time.year'] <= 2023), drop=True)\n",
        "\n",
        "# Calculate the annual mean temperature\n",
        "air_mean = air_dat_subset.mean({'time','level'})\n",
        "air_mean"
      ],
      "metadata": {
        "id": "yblCw-Mybmn_"
      },
      "execution_count": null,
      "outputs": []
    },
    {
      "cell_type": "markdown",
      "source": [
        "### Step 4: Visualize the Climate Data\n",
        "\n",
        "Use Cartopy to plot the mean annual temperature on a global map with a Robinson projection.\n",
        "\n",
        "Add cyclic points to the data for seamless plotting."
      ],
      "metadata": {
        "id": "577EdFepceI8"
      }
    },
    {
      "cell_type": "code",
      "source": [
        "import matplotlib.pyplot as plt\n",
        "import cartopy.crs as ccrs\n",
        "import cartopy.util as cutil\n",
        "from cartopy.feature import NaturalEarthFeature\n",
        "\n",
        "# Adding cyclic data to handle wrapping around 360 degrees\n",
        "cdata, clon = cutil.add_cyclic_point(air_mean, coord=lon)\n",
        "clat = lat\n",
        "vmin = 180\n",
        "vmax = 300\n",
        "\n",
        "# Create a figure with a Robinson projection map\n",
        "fig = plt.figure(figsize=(12, 5))\n",
        "ax = fig.add_subplot(1, 1, 1, projection=ccrs.Robinson())\n",
        "\n",
        "# Set the global extent of the map\n",
        "ax.set_global()\n",
        "\n",
        "# Plot the data\n",
        "cb = ax.contourf(clon, clat, cdata,\n",
        "                 levels=30,\n",
        "                 vmin=vmin,\n",
        "                 vmax=vmax,\n",
        "                 transform=ccrs.PlateCarree(),\n",
        "                 cmap='hsv')\n",
        "\n",
        "# Add color bar\n",
        "cbar = plt.colorbar(cb, ax=ax, orientation='vertical')\n",
        "cbar.set_label('Mean Temperature [K]')\n",
        "\n",
        "# Add coastlines and country borders\n",
        "ax.coastlines()\n",
        "ax.add_feature(NaturalEarthFeature(category='cultural', name='admin_0_countries',\n",
        "                                   scale='50m', facecolor='none', edgecolor='black'))\n",
        "\n",
        "# Set the title of the map\n",
        "plt.title('Annual Mean Temperature (averaged from 1980 - 2023)')\n",
        "\n",
        "# Tight layout to adjust spacing\n",
        "plt.tight_layout()\n",
        "\n",
        "# Display the plot\n",
        "plt.show()"
      ],
      "metadata": {
        "id": "2wa0p7AhchRh"
      },
      "execution_count": null,
      "outputs": []
    },
    {
      "cell_type": "markdown",
      "source": [
        "### **Questions:**\n",
        "\n",
        "1. **Latitude Reversal:**\n",
        "   - What is the purpose of reversing the latitude array? Explain why this step is crucial for accurate data visualization.\n",
        "\n",
        "2. **Temperature Range:**\n",
        "   - Modify the `vmin` and `vmax` values in the plotting code. Describe how adjusting these values impacts the visual representation of the temperature data.\n",
        "\n",
        "3. **Map Projections:**\n",
        "   - Experiment with different map projections using the `ccrs` module (e.g., `ccrs.Mollweide()`, `ccrs.PlateCarree()`). How does each projection alter the appearance and interpretation of the map?\n",
        "\n",
        "4. **Color Maps:**\n",
        "   - Change the `cmap` argument in `ax.contourf` to various colormaps (e.g., `'viridis'`, `'coolwarm'`). Which colormap do you think most effectively represents the data, and why?\n",
        "\n",
        "### **Discussion Topics:**\n",
        "\n",
        "1. **Regional Temperature Distribution:**\n",
        "   - How does the mean annual temperature vary across different regions of the globe? What patterns or trends do you observe?\n",
        "\n",
        "2. **Factors Influencing Temperature:**\n",
        "   - Identify and discuss potential factors that could influence variations in temperature patterns across the globe.\n",
        "\n",
        "3. **Future Climate Scenarios:**\n",
        "   - How might the observed temperature patterns evolve under future climate scenarios? What changes might we expect?\n",
        "\n",
        "### **Task:**\n",
        "\n",
        "- **Choose two** of the questions above to answer.\n",
        "- **Select one** of the discussion topics to lead a class discussion.\n"
      ],
      "metadata": {
        "id": "J7cKa5rahkZk"
      }
    },
    {
      "cell_type": "code",
      "source": [],
      "metadata": {
        "id": "y9NQ6vh9h_0n"
      },
      "execution_count": null,
      "outputs": []
    }
  ]
}