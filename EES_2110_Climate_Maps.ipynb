{
  "nbformat": 4,
  "nbformat_minor": 0,
  "metadata": {
    "colab": {
      "provenance": [],
      "toc_visible": true,
      "authorship_tag": "ABX9TyPfS5h2kSC/MHzuCdL+s9N5",
      "include_colab_link": true
    },
    "kernelspec": {
      "name": "python3",
      "display_name": "Python 3"
    },
    "language_info": {
      "name": "python"
    }
  },
  "cells": [
    {
      "cell_type": "markdown",
      "metadata": {
        "id": "view-in-github",
        "colab_type": "text"
      },
      "source": [
        "<a href=\"https://colab.research.google.com/github/HUSILEBAI/EES-2110/blob/main/EES_2110_Climate_Maps.ipynb\" target=\"_parent\"><img src=\"https://colab.research.google.com/assets/colab-badge.svg\" alt=\"Open In Colab\"/></a>"
      ]
    },
    {
      "cell_type": "markdown",
      "source": [
        "# Section 1:\n",
        "\n",
        "Basic projections\n",
        "\n",
        "Create maps using [Cartopy](https://scitools.org.uk/cartopy/docs/latest/)"
      ],
      "metadata": {
        "id": "c3Z1sUeebpuZ"
      }
    },
    {
      "cell_type": "code",
      "execution_count": null,
      "metadata": {
        "id": "xo2rfZ4dZNam"
      },
      "outputs": [],
      "source": [
        "# Install Cartopy (if not already installed)\n",
        "!apt-get -qq install python-cartopy python3-cartopy  # Install system dependencies\n",
        "!pip install cartopy\n"
      ]
    },
    {
      "cell_type": "code",
      "source": [
        "import matplotlib.pyplot as plt\n",
        "import cartopy.crs as ccrs\n",
        "import cartopy.feature as cfeature\n",
        "\n",
        "# Create a new figure with a Cartopy Orthographic projection\n",
        "plt.figure(figsize=(10, 8))\n",
        "\n",
        "# Set up the map with Orthographic projection centered at 0°N, 0°E\n",
        "ax = plt.axes(projection=ccrs.Orthographic(central_longitude=0, central_latitude=30))\n",
        "\n",
        "# Add coastlines and country borders with higher resolution\n",
        "ax.coastlines(resolution='110m')\n",
        "ax.add_feature(cfeature.BORDERS, linestyle=':')\n",
        "\n",
        "# Add a finer grid (every 10 degrees)\n",
        "gl = ax.gridlines(draw_labels=True, linewidth=1, color='gray', alpha=0.5, linestyle='--')\n",
        "gl.xlocator = plt.MultipleLocator(10)\n",
        "gl.ylocator = plt.MultipleLocator(10)\n",
        "\n",
        "# Mask the land with a light gray color\n",
        "ax.add_feature(cfeature.LAND, facecolor='black')\n",
        "# Add ocean with a light blue color\n",
        "# ax.add_feature(cfeature.OCEAN, facecolor='blue')\n",
        "\n",
        "# Set the title and show the plot\n",
        "# plt.title('Planet Earth with Fine Grid and Masked Land (Orthographic Projection)')\n",
        "plt.show()\n"
      ],
      "metadata": {
        "id": "APCe-PZ4agde"
      },
      "execution_count": null,
      "outputs": []
    },
    {
      "cell_type": "markdown",
      "source": [
        "# Section 2:\n",
        "\n",
        "Real world data analysis:"
      ],
      "metadata": {
        "id": "BPjFhebLb-Rb"
      }
    },
    {
      "cell_type": "markdown",
      "source": [
        "## Download climate data\n",
        "\n",
        "Near surface (2-m) air temperature analysis\n",
        "\n",
        "Now, let's download the data using command. Here, we use [NCEP/DOE Reanalysis II](https://psl.noaa.gov/data/gridded/data.ncep.reanalysis2.html).\n",
        "\n",
        "Note that you only need to run this section once. And you can turn it off after you have your data downloaded."
      ],
      "metadata": {
        "id": "yBPiahBra8PC"
      }
    },
    {
      "cell_type": "code",
      "source": [
        "!curl -O -C - https://downloads.psl.noaa.gov/Datasets/ncep.reanalysis2/Monthlies/gaussian_grid/air.2m.mon.mean.nc\n",
        ""
      ],
      "metadata": {
        "id": "VSlJpFInasZl"
      },
      "execution_count": null,
      "outputs": []
    },
    {
      "cell_type": "markdown",
      "source": [
        "## Read climate data:\n",
        "\n",
        "Read near surface air temperature with [xarray](https://xarray.dev/)"
      ],
      "metadata": {
        "id": "JkQ9w4gFbNW3"
      }
    },
    {
      "cell_type": "code",
      "source": [
        "file_name = f\"air.2m.mon.mean.nc\"\n",
        "t2_dat = xr.open_dataset(file_name)\n",
        "t2_dat = t2_dat.isel(lat=slice(None, None, -1))\n",
        "t2_dat"
      ],
      "metadata": {
        "id": "nukRcthEbLZo"
      },
      "execution_count": null,
      "outputs": []
    },
    {
      "cell_type": "markdown",
      "source": [
        "## Extract climate data:\n",
        "\n",
        "Annual mean near-surface temperature"
      ],
      "metadata": {
        "id": "4WoXRbv5bnD2"
      }
    },
    {
      "cell_type": "code",
      "source": [
        "lat = t2_dat.lat\n",
        "lon = t2_dat.lon\n",
        "air_dat = t2_dat.air\n",
        "air_dat_subset = air_dat.where((air_dat['time.year'] >= 1980) & (air_dat['time.year'] <= 2023), drop=True)\n",
        "air_mean = air_dat_subset.mean({'time','level'})\n",
        "air_mean"
      ],
      "metadata": {
        "id": "yblCw-Mybmn_"
      },
      "execution_count": null,
      "outputs": []
    },
    {
      "cell_type": "markdown",
      "source": [
        "## Plot climate data\n"
      ],
      "metadata": {
        "id": "577EdFepceI8"
      }
    },
    {
      "cell_type": "code",
      "source": [
        "import cartopy.util as cutil\n",
        "from cartopy.feature import NaturalEarthFeature\n",
        "\n",
        "# Adding cyclic to the data and coordinates\n",
        "cdata, clon, clat = cutil.add_cyclic(air_mean, lon, lat)\n",
        "vmin=180\n",
        "vmax=300\n",
        "# Plotting\n",
        "fig = plt.figure(figsize=(12, 5))\n",
        "ax = fig.add_subplot(1, 1, 1, projection=ccrs.Robinson())\n",
        "ax.set_global()\n",
        "cb = ax.contourf(clon, clat, cdata,\n",
        "                 levels=30,\n",
        "                 vmin = vmin,\n",
        "                 vmax = vmax,\n",
        "                 transform=ccrs.PlateCarree(),\n",
        "                 cmap='hsv')  # Assuming you want to plot the first level\n",
        "cbar = plt.colorbar(cb, ax=ax, orientation='vertical')\n",
        "cbar.set_label('Mean temperature [K]')\n",
        "ax.coastlines()\n",
        "ax.add_feature(NaturalEarthFeature(category='cultural', name='admin_0_countries', scale='50m', facecolor='none', edgecolor='black'))\n",
        "plt.title('Annual Mean Temperature (averaged from 1980 - 2023)')\n",
        "# Tight layout to adjust spacing\n",
        "plt.tight_layout()\n",
        "plt.show()"
      ],
      "metadata": {
        "id": "2wa0p7AhchRh"
      },
      "execution_count": null,
      "outputs": []
    }
  ]
}