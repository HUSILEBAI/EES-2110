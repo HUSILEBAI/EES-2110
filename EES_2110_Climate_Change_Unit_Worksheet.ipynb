{
  "nbformat": 4,
  "nbformat_minor": 0,
  "metadata": {
    "colab": {
      "provenance": [],
      "authorship_tag": "ABX9TyNsK+8ivSndo8IRwle5sN1n",
      "include_colab_link": true
    },
    "kernelspec": {
      "name": "python3",
      "display_name": "Python 3"
    },
    "language_info": {
      "name": "python"
    }
  },
  "cells": [
    {
      "cell_type": "markdown",
      "metadata": {
        "id": "view-in-github",
        "colab_type": "text"
      },
      "source": [
        "<a href=\"https://colab.research.google.com/github/HUSILEBAI/EES-2110/blob/main/EES_2110_Climate_Change_Unit_Worksheet.ipynb\" target=\"_parent\"><img src=\"https://colab.research.google.com/assets/colab-badge.svg\" alt=\"Open In Colab\"/></a>"
      ]
    },
    {
      "cell_type": "markdown",
      "source": [
        "# Climate System Units Worksheet\n",
        "\n",
        "#### Fill in the equation and units for each quantity related to climate science.\n",
        "\n",
        "| **Variable**               | **Notation** | **Equation**                       | **Units**                      |\n",
        "|----------------------------|--------------|------------------------------------|--------------------------------|\n",
        "| **Time**                   | $t$          |                                    | $s$ (second)                   |\n",
        "|                            |              |                                    |                                |\n",
        "| **Mass**                   | $m$          |                                    | $kg$ (kilogram)                |\n",
        "|                            |              |                                    |                                |\n",
        "| **Distance**                   | $d$          |                                    | $m$ (meter)                |\n",
        "|                            |              |                                    |                                |\n",
        "|----------------------------|--------------|------------------------------------|--------------------------------|\n",
        "| **Area**                   | $A$          |                                    |                |\n",
        "|                            |              |                                    |                                |\n",
        "| **Volume**                 | $V$          |                                    |                |\n",
        "|                            |              |                                    |                                |\n",
        "| **Density**                | $\\rho$       |                                    |                                |\n",
        "|                            |              |                                    |                                |\n",
        "| **Speed**                  | $v$          | $ \\frac{d}{t} $                    |                                |\n",
        "|                            |              |                                    |                                |\n",
        "| **Acceleration**           | $a$          |                                    |                                |\n",
        "|                            |              |                                    |                                |\n",
        "| **Force**                  | $F$          |                                    |                                |\n",
        "|                            |              |                                    |                                |\n",
        "| **Pressure**               | $p$          |                                    |                                |\n",
        "|                            |              |                                    |                                |\n",
        "| **Work**                   | $W$          |                                    |                                |\n",
        "|                            |              |                                    |                                |\n",
        "| **Energy**                 | $E$          |                                    |                                |\n",
        "|                            |              |                                    |                                |\n",
        "| **Flow of Energy (Power)** | $P$          |                                    |                                |\n",
        "|                            |              |                                    |                                |\n",
        "| **Mass Flux**              | $F_m$        |                   $ \\frac{m}{At} $                 |                                |\n",
        "|                            |              |                                    |                                |\n",
        "| **Heat Flux**              | $F_h$        |                         $ \\frac{E}{At} $            |                               |\n",
        "|                            |              |                                    |                                |\n",
        "\n",
        "\n",
        "#### Notes\n",
        "\n",
        "<font size=\"0.45\">\n",
        "1. <b>Time (𝑡)</b>: How long something happens or is measured.<br>\n",
        "2. <b>Mass (𝑚)</b>: The amount of stuff (matter) in an object or substance.<br>\n",
        "3. <b>Area (𝐴)</b>: The size of a surface or section.<br>\n",
        "4. <b>Volume (𝑉)</b>: The amount of space something takes up.<br>\n",
        "5. <b>Density (𝜌)</b>: How much stuff (mass) is packed into a space (volume).<br>\n",
        "6. <b>Speed (𝑣)</b>: How fast something is moving.<br>\n",
        "7. <b>Acceleration (𝑎)</b>: How quickly something speeds up or slows down.<br>\n",
        "8. <b>Force (𝐹)</b>: A push or pull that makes something move or stop.<br>\n",
        "9. <b>Pressure (𝑝)</b>: How much force is spread over a certain area.<br>\n",
        "10. <b>Work (𝑊)</b>: The effort it takes to move something.<br>\n",
        "11. <b>Energy (𝐸)</b>: The ability to do work or make things happen.<br>\n",
        "12. <b>Flow of Energy (Power, 𝑃)</b>: How quickly energy is used or transferred.<br>\n",
        "13. <b>Heat Flux (𝑞)</b>: How much heat energy moves through an area over time.<br>\n",
        "14. <b>Mass Flux (𝜙𝑚)</b>: How much mass moves through an area over time.\n",
        "</font>\n",
        "\n"
      ],
      "metadata": {
        "id": "OSPurXm4auff"
      }
    },
    {
      "cell_type": "markdown",
      "source": [
        "# Climate System Units Worksheet (with answer)\n",
        "\n",
        "#### Fill in the equation and units for each quantity related to climate science.\n",
        "\n",
        "| **Variable**               | **Notation** | **Equation**                       | **Units**                      |\n",
        "|----------------------------|--------------|------------------------------------|--------------------------------|\n",
        "| **Time**                   | $t$          |                                    | $s$ (second)                      |\n",
        "| **Mass**                   | $m$          |                                    | $kg$ (kilogram)                   |\n",
        "| **Distance**               | $d$          |                                    | $m$ (meter)                |\n",
        "| **Area**                   | $A$          | $d^2$                              | $m^2$ (square meter)               |\n",
        "| **Volume**                 | $V$          | $d^3$                              | $m^3$ (cubic meter)                |\n",
        "| **Density**                | $\\rho$       | $ \\frac{m}{V} = \\frac{m}{d^3}$     | $kg/m^3$ (kilogram per cubic meter) |\n",
        "| **Speed**                  | $v$          | $ \\frac{d}{t} $                    | $m/s$ (meter per second)          |\n",
        "| **Acceleration**           | $a$          | $ \\frac{v}{t} = \\frac{d}{t^2}$     | $m/s^2$ (meter per second squared) |\n",
        "| **Force**                  | $F$          | $ m \\cdot a $                      | $kg \\frac{m}{s^2} = N$ (Newton)                      |\n",
        "| **Pressure**               | $p$          | $ \\frac{F}{A} $                    | $\\frac{N}{m^2} = Pa$ (Pascal)                     |\n",
        "| **Work**                   | $W$          | $ F \\cdot d $                      | $Nm = J$ (Joule)                       |\n",
        "| **Energy**                 | $E$          | $ F \\cdot d $                      | $J$ (Joule)                       |\n",
        "| **Flow of Energy (Power)** | $P$          |      $ \\frac{E}{t} = \\frac{F\\cdot d}{t}$      |   $\\frac{J}{s} = W$ (Watt)                        |\n",
        "| **Mass Flux**              | $F_m$        | $ \\frac{m}{At} $                   | $\\frac{kg}{m^2s}$                     |\n",
        "| **Heat Flux**              | $F_h$        | $ \\frac{E}{At} $                   | $\\frac{J}{m^2s} = \\frac{W}{m^2}$                 |\n"
      ],
      "metadata": {
        "id": "ZiRbhKxBZhn4"
      }
    },
    {
      "cell_type": "code",
      "source": [],
      "metadata": {
        "id": "mPsF7SLhZxaK"
      },
      "execution_count": null,
      "outputs": []
    }
  ]
}