{
  "nbformat": 4,
  "nbformat_minor": 0,
  "metadata": {
    "colab": {
      "provenance": [],
      "authorship_tag": "ABX9TyNDhoE2A4KEVq1qU26V/62j",
      "include_colab_link": true
    },
    "kernelspec": {
      "name": "python3",
      "display_name": "Python 3"
    },
    "language_info": {
      "name": "python"
    }
  },
  "cells": [
    {
      "cell_type": "markdown",
      "metadata": {
        "id": "view-in-github",
        "colab_type": "text"
      },
      "source": [
        "<a href=\"https://colab.research.google.com/github/HUSILEBAI/EES-2110/blob/main/EES_2110_Climate_Change_Unit_Worksheet.ipynb\" target=\"_parent\"><img src=\"https://colab.research.google.com/assets/colab-badge.svg\" alt=\"Open In Colab\"/></a>"
      ]
    },
    {
      "cell_type": "markdown",
      "source": [
        "# Climate Change Units Worksheet\n",
        "\n",
        "#### Fill in the equation and units for each quantity related to climate science.\n",
        "\n",
        "| **Variable**               | **Notation** | **Equation**                       | **Units**                      |\n",
        "|----------------------------|--------------|------------------------------------|--------------------------------|\n",
        "| **Time**                   | $t$          |                                    | $s$ (second)                   |\n",
        "|                            |              |                                    |                                |\n",
        "| **Mass**                   | $m$          |                                    | $kg$ (kilogram)                |\n",
        "|                            |              |                                    |                                |\n",
        "| **Area**                   | $A$          |                                    | $m^2$ (square meter)           |\n",
        "|                            |              |                                    |                                |\n",
        "| **Volume**                 | $V$          |                                    | $m^3$ (cubic meter)            |\n",
        "|                            |              |                                    |                                |\n",
        "| **Density**                | $\\rho$       |                                    |                                |\n",
        "|                            |              |                                    |                                |\n",
        "| **Speed**                  | $v$          | $ \\frac{d}{t} $                    |                                |\n",
        "|                            |              |                                    |                                |\n",
        "| **Acceleration**           | $a$          |                                    |                                |\n",
        "|                            |              |                                    |                                |\n",
        "| **Force**                  | $F$          |                                    |                                |\n",
        "|                            |              |                                    |                                |\n",
        "| **Pressure**               | $p$          |                                    |                                |\n",
        "|                            |              |                                    |                                |\n",
        "| **Work**                   | $W$          |                                    |                                |\n",
        "|                            |              |                                    |                                |\n",
        "| **Energy**                 | $E$          |                                    |                                |\n",
        "|                            |              |                                    |                                |\n",
        "| **Flow of Energy (Power)** | $P$          |                                    |                                |\n",
        "|                            |              |                                    |                                |\n",
        "| **Mass Flux**              | $F_m$        |                                    |                                |\n",
        "|                            |              |                                    |                                |\n",
        "| **Heat Flux**              | $F_h$        |                                    |                                |\n",
        "|                            |              |                                    |                                |\n",
        "| **Distance**               | $d$          |                                    | $m$ (meter)                    |\n",
        "|                            |              |                                    |                                |\n",
        "\n",
        "#### Notes\n",
        "\n",
        "<font size=\"0.45\">\n",
        "1. <b>Time (𝑡)</b>: How long something happens or is measured.<br>\n",
        "2. <b>Mass (𝑚)</b>: The amount of stuff (matter) in an object or substance.<br>\n",
        "3. <b>Area (𝐴)</b>: The size of a surface or section.<br>\n",
        "4. <b>Volume (𝑉)</b>: The amount of space something takes up.<br>\n",
        "5. <b>Density (𝜌)</b>: How much stuff (mass) is packed into a space (volume).<br>\n",
        "6. <b>Speed (𝑣)</b>: How fast something is moving.<br>\n",
        "7. <b>Acceleration (𝑎)</b>: How quickly something speeds up or slows down.<br>\n",
        "8. <b>Force (𝐹)</b>: A push or pull that makes something move or stop.<br>\n",
        "9. <b>Pressure (𝑝)</b>: How much force is spread over a certain area.<br>\n",
        "10. <b>Work (𝑊)</b>: The effort it takes to move something.<br>\n",
        "11. <b>Energy (𝐸)</b>: The ability to do work or make things happen.<br>\n",
        "12. <b>Flow of Energy (Power, 𝑃)</b>: How quickly energy is used or transferred.<br>\n",
        "13. <b>Heat Flux (𝑞)</b>: How much heat energy moves through an area over time.<br>\n",
        "14. <b>Mass Flux (𝜙𝑚)</b>: How much mass moves through an area over time.\n",
        "</font>\n",
        "\n"
      ],
      "metadata": {
        "id": "OSPurXm4auff"
      }
    },
    {
      "cell_type": "markdown",
      "source": [
        "# Climate Change Units Worksheet (with answer)\n",
        "\n",
        "#### Fill in the equation and units for each quantity related to climate science.\n",
        "\n",
        "| **Variable**               | **Notation** | **Equation**                       | **Units**                      | **Hint**                                     |\n",
        "|----------------------------|--------------|------------------------------------|--------------------------------|----------------------------------------------|\n",
        "| **Time**                   | $t$          |                                    | $s$ (second)                      | Duration of observation or measurement       |\n",
        "|                            |              |                                    |                                |                                              |\n",
        "| **Mass**                   | $m$          |                                    | $kg$ (kilogram)                   | Amount of matter in an object               |\n",
        "|                            |              |                                    |                                |                                              |\n",
        "| **Area**                   | $A$          |                                    | $m^2$ (square meter)               | Surface extent of an object                 |\n",
        "|                            |              |                                    |                                |                                              |\n",
        "| **Volume**                 | $V$          |                                    | $m^3$ (cubic meter)                | Space occupied by an object                 |\n",
        "|                            |              |                                    |                                |                                              |\n",
        "| **Density**                | $\\rho$       | $ \\frac{m}{V} $                  | $kg/m^3$ (kilogram per cubic meter) | Mass per unit volume                        |\n",
        "|                            |              |                                    |                                |                                              |\n",
        "| **Speed**                  | $v$          | $ \\frac{d}{t} $                  | $m/s$ (meter per second)          | Distance traveled per unit time             |\n",
        "|                            |              |                                    |                                |                                              |\n",
        "| **Acceleration**           | $a$          | $ \\frac{v}{t} $                  | $m/s^2$ (meter per second squared) | Change in speed per unit time               |\n",
        "|                            |              |                                    |                                |                                              |\n",
        "| **Force**                  | $F$          | $ m \\cdot a $                    | $N$ (Newton)                      | Mass times acceleration                     |\n",
        "|                            |              |                                    |                                |                                              |\n",
        "| **Pressure**               | $p$          | $ \\frac{F}{A} $                  | $Pa$ (Pascal)                     | Force per unit area                         |\n",
        "|                            |              |                                    |                                |                                              |\n",
        "| **Work**                   | $W$          | $ F \\cdot d $                    | $J$ (Joule)                       | Force applied over a distance               |\n",
        "|                            |              |                                    |                                |                                              |\n",
        "| **Energy**                 | $E$          |                                    | $J$ (Joule)                       | Capacity to do work                         |\n",
        "|                            |              |                                    |                                |                                              |\n",
        "| **Flow of Energy (Power)** | $P$          | $ \\frac{E}{t} $                  | $W$ (Watt)                        | Energy transferred per unit time            |\n",
        "|                            |              |                                    |                                |                                              |\n",
        "| **Heat Flux**              | $q$          | $ \\frac{Q}{A \\cdot t} $          | $W/m^2$ (Watt per square meter)    | Rate of heat energy transfer per unit area  |\n",
        "|                            |              |                                    |                                |                                              |\n",
        "| **Mass Flux**              | $\\phi_m$     | $ \\frac{m}{A \\cdot t} $          | $kg/(m^2·s)$                       | Rate of mass transfer per unit area         |\n",
        "\n"
      ],
      "metadata": {
        "id": "ZiRbhKxBZhn4"
      }
    },
    {
      "cell_type": "code",
      "source": [],
      "metadata": {
        "id": "mPsF7SLhZxaK"
      },
      "execution_count": null,
      "outputs": []
    }
  ]
}