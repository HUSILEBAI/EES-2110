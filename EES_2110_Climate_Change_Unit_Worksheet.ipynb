{
  "nbformat": 4,
  "nbformat_minor": 0,
  "metadata": {
    "colab": {
      "provenance": [],
      "authorship_tag": "ABX9TyPEL9qINnyW4w8L6mSMAjJ9",
      "include_colab_link": true
    },
    "kernelspec": {
      "name": "python3",
      "display_name": "Python 3"
    },
    "language_info": {
      "name": "python"
    }
  },
  "cells": [
    {
      "cell_type": "markdown",
      "metadata": {
        "id": "view-in-github",
        "colab_type": "text"
      },
      "source": [
        "<a href=\"https://colab.research.google.com/github/HUSILEBAI/EES-2110/blob/main/Climate_Change_Unit_Worksheet.ipynb\" target=\"_parent\"><img src=\"https://colab.research.google.com/assets/colab-badge.svg\" alt=\"Open In Colab\"/></a>"
      ]
    },
    {
      "cell_type": "markdown",
      "source": [
        "# Climate Change Unit Worksheet\n",
        "\n",
        "## Fill in the equation and units for each quantity related to climate science.\n",
        "\n",
        "| **Variable**               | **Notation** | **Equation**                       | **Units**                      |\n",
        "|----------------------------|--------------|------------------------------------|--------------------------------|\n",
        "| **Time**                   | $t$          |                                    | $s$ (second)                   |\n",
        "|                            |              |                                    |                                |\n",
        "| **Mass**                   | $m$          |                                    | $kg$ (kilogram)                |\n",
        "|                            |              |                                    |                                |\n",
        "| **Area**                   | $A$          |                                    | $m^2$ (square meter)           |\n",
        "|                            |              |                                    |                                |\n",
        "| **Volume**                 | $V$          |                                    | $m^3$ (cubic meter)            |\n",
        "|                            |              |                                    |                                |\n",
        "| **Density**                | $\\rho$       |                                    |                                |\n",
        "|                            |              |                                    |                                |\n",
        "| **Speed**                  | $v$          | $ \\frac{d}{t} $                    |                                |\n",
        "|                            |              |                                    |                                |\n",
        "| **Acceleration**           | $a$          |                                    |                                |\n",
        "|                            |              |                                    |                                |\n",
        "| **Force**                  | $F$          |                                    |                                |\n",
        "|                            |              |                                    |                                |\n",
        "| **Pressure**               | $p$          |                                    |                                |\n",
        "|                            |              |                                    |                                |\n",
        "| **Work**                   | $W$          |                                    |                                |\n",
        "|                            |              |                                    |                                |\n",
        "| **Energy**                 | $E$          |                                    |                                |\n",
        "|                            |              |                                    |                                |\n",
        "| **Flow of Energy (Power)** | $P$          |                                    |                                |\n",
        "|                            |              |                                    |                                |\n",
        "| **Mass Flux**              | $F_m$        |                                    |                                |\n",
        "|                            |              |                                    |                                |\n",
        "| **Heat Flux**              | $F_h$        |                                    |                                |\n",
        "|                            |              |                                    |                                |\n",
        "| **Distance**               | $d$          |                                    | $m$ (meter)                    |\n",
        "|                            |              |                                    |                                |\n",
        "\n",
        "## Notes\n",
        "\n",
        "1. **Time ($t$)**: How long something happens or is measured.\n",
        "2. **Mass ($m$)**: The amount of stuff (matter) in an object or substance.\n",
        "3. **Area ($A$)**: The size of a surface or section.\n",
        "4. **Volume ($V$)**: The amount of space something takes up.\n",
        "5. **Density ($\\rho$)**: How much stuff (mass) is packed into a space (volume).\n",
        "6. **Speed ($v$)**: How fast something is moving.\n",
        "7. **Acceleration ($a$)**: How quickly something speeds up or slows down.\n",
        "8. **Force ($F$)**: A push or pull that makes something move or stop.\n",
        "9. **Pressure ($p$)**: How much force is spread over a certain area.\n",
        "10. **Work ($W$)**: The effort it takes to move something.\n",
        "11. **Energy ($E$)**: The ability to do work or make things happen.\n",
        "12. **Flow of Energy (Power, $P$)**: How quickly energy is used or transferred.\n",
        "13. **Heat Flux ($q$)**: How much heat energy moves through an area over time.\n",
        "14. **Mass Flux ($\\phi_m$)**: How much mass moves through an area over time.\n"
      ],
      "metadata": {
        "id": "OSPurXm4auff"
      }
    },
    {
      "cell_type": "markdown",
      "source": [
        "# Climate Change Unit Worksheet (with answer)\n",
        "\n",
        "## Fill in the equation and units for each quantity related to climate science.\n",
        "\n",
        "| **Variable**               | **Notation** | **Equation**                       | **Units**                      | **Hint**                                     |\n",
        "|----------------------------|--------------|------------------------------------|--------------------------------|----------------------------------------------|\n",
        "| **Time**                   | $t$          |                                    | $s$ (second)                      | Duration of observation or measurement       |\n",
        "|                            |              |                                    |                                |                                              |\n",
        "| **Mass**                   | $m$          |                                    | $kg$ (kilogram)                   | Amount of matter in an object               |\n",
        "|                            |              |                                    |                                |                                              |\n",
        "| **Area**                   | $A$          |                                    | $m^2$ (square meter)               | Surface extent of an object                 |\n",
        "|                            |              |                                    |                                |                                              |\n",
        "| **Volume**                 | $V$          |                                    | $m^3$ (cubic meter)                | Space occupied by an object                 |\n",
        "|                            |              |                                    |                                |                                              |\n",
        "| **Density**                | $\\rho$       | $ \\frac{m}{V} $                  | $kg/m^3$ (kilogram per cubic meter) | Mass per unit volume                        |\n",
        "|                            |              |                                    |                                |                                              |\n",
        "| **Speed**                  | $v$          | $ \\frac{d}{t} $                  | $m/s$ (meter per second)          | Distance traveled per unit time             |\n",
        "|                            |              |                                    |                                |                                              |\n",
        "| **Acceleration**           | $a$          | $ \\frac{v}{t} $                  | $m/s^2$ (meter per second squared) | Change in speed per unit time               |\n",
        "|                            |              |                                    |                                |                                              |\n",
        "| **Force**                  | $F$          | $ m \\cdot a $                    | $N$ (Newton)                      | Mass times acceleration                     |\n",
        "|                            |              |                                    |                                |                                              |\n",
        "| **Pressure**               | $p$          | $ \\frac{F}{A} $                  | $Pa$ (Pascal)                     | Force per unit area                         |\n",
        "|                            |              |                                    |                                |                                              |\n",
        "| **Work**                   | $W$          | $ F \\cdot d $                    | $J$ (Joule)                       | Force applied over a distance               |\n",
        "|                            |              |                                    |                                |                                              |\n",
        "| **Energy**                 | $E$          |                                    | $J$ (Joule)                       | Capacity to do work                         |\n",
        "|                            |              |                                    |                                |                                              |\n",
        "| **Flow of Energy (Power)** | $P$          | $ \\frac{E}{t} $                  | $W$ (Watt)                        | Energy transferred per unit time            |\n",
        "|                            |              |                                    |                                |                                              |\n",
        "| **Heat Flux**              | $q$          | $ \\frac{Q}{A \\cdot t} $          | $W/m^2$ (Watt per square meter)    | Rate of heat energy transfer per unit area  |\n",
        "|                            |              |                                    |                                |                                              |\n",
        "| **Mass Flux**              | $\\phi_m$     | $ \\frac{m}{A \\cdot t} $          | $kg/(m^2·s)$                       | Rate of mass transfer per unit area         |\n",
        "\n",
        "## Notes\n",
        "\n",
        "1. **Time ($t$)**: How long something happens or is measured.\n",
        "2. **Mass ($m$)**: The amount of stuff (matter) in an object or substance.\n",
        "3. **Area ($A$)**: The size of a surface or section.\n",
        "4. **Volume ($V$)**: The amount of space something takes up.\n",
        "5. **Density ($\\rho$)**: How much stuff (mass) is packed into a space (volume).\n",
        "6. **Speed ($v$)**: How fast something is moving.\n",
        "7. **Acceleration ($a$)**: How quickly something speeds up or slows down.\n",
        "8. **Force ($F$)**: A push or pull that makes something move or stop.\n",
        "9. **Pressure ($p$)**: How much force is spread over a certain area.\n",
        "10. **Work ($W$)**: The effort it takes to move something.\n",
        "11. **Energy ($E$)**: The ability to do work or make things happen.\n",
        "12. **Flow of Energy (Power, $P$)**: How quickly energy is used or transferred.\n",
        "13. **Heat Flux ($q$)**: How much heat energy moves through an area over time.\n",
        "14. **Mass Flux ($\\phi_m$)**: How much mass moves through an area over time.\n"
      ],
      "metadata": {
        "id": "ZiRbhKxBZhn4"
      }
    },
    {
      "cell_type": "code",
      "source": [],
      "metadata": {
        "id": "mPsF7SLhZxaK"
      },
      "execution_count": null,
      "outputs": []
    }
  ]
}
