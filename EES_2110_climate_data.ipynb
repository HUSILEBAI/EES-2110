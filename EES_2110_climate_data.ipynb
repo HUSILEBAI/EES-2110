{
  "nbformat": 4,
  "nbformat_minor": 0,
  "metadata": {
    "colab": {
      "provenance": [],
      "toc_visible": true,
      "authorship_tag": "ABX9TyNBvsYDbUjjgHaz2O7lMLWF",
      "include_colab_link": true
    },
    "kernelspec": {
      "name": "python3",
      "display_name": "Python 3"
    },
    "language_info": {
      "name": "python"
    }
  },
  "cells": [
    {
      "cell_type": "markdown",
      "metadata": {
        "id": "view-in-github",
        "colab_type": "text"
      },
      "source": [
        "<a href=\"https://colab.research.google.com/github/HUSILEBAI/EES-2110/blob/main/EES_2110_climate_data.ipynb\" target=\"_parent\"><img src=\"https://colab.research.google.com/assets/colab-badge.svg\" alt=\"Open In Colab\"/></a>"
      ]
    },
    {
      "cell_type": "markdown",
      "source": [
        "# <font color=green> EES 2110 Introduction to Climate Change </font>\n",
        "\n",
        "    Python session 2:\n",
        "    Objective: Get familiar with the basic syntax of Python."
      ],
      "metadata": {
        "id": "2C1UehO7cfGI"
      }
    },
    {
      "cell_type": "code",
      "source": [
        "#connect with your google drive\n",
        "from google.colab import drive  #import the drive library\n",
        "drive.mount('/content/drive')  #mount"
      ],
      "metadata": {
        "id": "_EDx-P_WcpVu"
      },
      "execution_count": null,
      "outputs": []
    },
    {
      "cell_type": "code",
      "source": [
        "import numpy as np               # A library for numerical calculations\n",
        "import matplotlib.pyplot as plt  # For plotting\n",
        "import pandas as pd              # For handling data and extracting stored variables\n"
      ],
      "metadata": {
        "id": "SHy5-oOrOBJl"
      },
      "execution_count": 3,
      "outputs": []
    },
    {
      "cell_type": "markdown",
      "source": [
        "## A for loop: reading a time series data and printing the data values"
      ],
      "metadata": {
        "id": "adXMgIDnaTvg"
      }
    },
    {
      "cell_type": "code",
      "source": [
        "\n",
        "# Load the padded data from the CSV file\n",
        "df_climate = pd.read_csv('/content/drive/MyDrive/EES2110/climate_data.csv')\n",
        "\n",
        "# df_climate\n"
      ],
      "metadata": {
        "id": "ksMb914Kbz4d"
      },
      "execution_count": 4,
      "outputs": []
    },
    {
      "cell_type": "code",
      "source": [
        "# Extract the T and CO2 columns from the DataFrame\n",
        "T = df_climate[['T_column1', 'T_column2']].values\n",
        "CO2 = df_climate[['CO2_column1', 'CO2_column2']].values\n",
        "\n",
        "print(\"The dimensions of the input temperature data are:\", T.shape)\n",
        "# note that T is an array with two columns, one for years and one for temperature\n",
        "\n"
      ],
      "metadata": {
        "id": "XkNuy6hwg-cS"
      },
      "execution_count": null,
      "outputs": []
    },
    {
      "cell_type": "code",
      "source": [
        "# Print data for a few years using a for loop:\n",
        "print(\"\\n year  , Temperature\")\n",
        "for i in range(0, 10):\n",
        "    print(T[i, 0], \",\", T[i, 1])\n",
        "# note that the for loop is indicated by the indentation\n",
        "# block, in the above case only a single line is in the loop.\n",
        "\n"
      ],
      "metadata": {
        "id": "vmS5tUG_hVQK"
      },
      "execution_count": null,
      "outputs": []
    },
    {
      "cell_type": "code",
      "source": [
        "# As another example of a for loop, calculate the mean temperature using a for loop:\n",
        "N = len(T[:, 0])\n",
        "Tavg = 0\n",
        "count = 0  # To count valid temperature values\n",
        "\n",
        "for i in range(0, N):\n",
        "    if not np.isnan(T[i, 1]):  # Only include non-NaN values\n",
        "        Tavg = Tavg + T[i, 1]\n",
        "        count += 1\n",
        "\n",
        "if count > 0:\n",
        "    Tavg = Tavg / count\n",
        "else:\n",
        "    Tavg = np.nan  # Handle the case where there are no valid values\n",
        "\n",
        "print(\"\\naveraged temperature is\", Tavg)\n",
        "# Note that the average is basically zero, as the temperature record is an anomaly from the mean.\n",
        "\n"
      ],
      "metadata": {
        "id": "rRXoPkMjhZaT"
      },
      "execution_count": null,
      "outputs": []
    },
    {
      "cell_type": "code",
      "source": [
        "# Calculate the mean using a numpy function, excluding NaNs:\n",
        "Tavg_numpy = np.nanmean(T[:, 1])\n",
        "print(\"averaged temperature calculated by numpy function is\", Tavg_numpy)"
      ],
      "metadata": {
        "id": "T2PepFHrhdEy"
      },
      "execution_count": null,
      "outputs": []
    },
    {
      "cell_type": "markdown",
      "source": [
        "## <font color=\"red\"> Exercise: for loop: </font>\n",
        "    \n",
        "<font color=\"red\"> Write a loop that sums the numbers from 1 to 2020\n",
        "</font>"
      ],
      "metadata": {
        "id": "7gC4kIw1awWp"
      }
    },
    {
      "cell_type": "code",
      "source": [
        "# code here:\n",
        "\n"
      ],
      "metadata": {
        "id": "OIc42EIAahZL"
      },
      "execution_count": null,
      "outputs": []
    },
    {
      "cell_type": "markdown",
      "source": [
        "## Plot the timeseries data:"
      ],
      "metadata": {
        "id": "UiuElihfa10B"
      }
    },
    {
      "cell_type": "code",
      "source": [
        "# plot it:\n",
        "# --------\n",
        "import matplotlib.pyplot as plt\n",
        "fig1= plt.figure(1,dpi=300)\n",
        "# python array indices are in square brackets and start from zero:\n",
        "plt.plot(T[:,0],T[:,1],color=\"b\")\n",
        "plt.xlabel(\"Year\")\n",
        "plt.ylabel(\"Temperature (C)\")\n",
        "plt.title(\"observed Temperature record\");"
      ],
      "metadata": {
        "id": "0wAWaT7Ua2PW"
      },
      "execution_count": null,
      "outputs": []
    },
    {
      "cell_type": "markdown",
      "source": [
        "## <font color=\"red\"> Exercise: line plot</font>\n",
        " <font color=\"red\">\n",
        "     plot $y(x)=\\sin(x)$ for $x=-\\pi$ to $\\pi$.\n",
        "   Hints: create an $x$ array (vector) using x=np.arange(-1,1.1,0.1), pi is given by np.pi, sine is given by np.sin()\n",
        "</font>"
      ],
      "metadata": {
        "id": "-dreuPzNbKRP"
      }
    },
    {
      "cell_type": "code",
      "source": [
        "# code here:\n",
        "\n",
        "XX"
      ],
      "metadata": {
        "id": "bne5nnHwa3_l"
      },
      "execution_count": null,
      "outputs": []
    },
    {
      "cell_type": "markdown",
      "source": [
        "## An if statement:"
      ],
      "metadata": {
        "id": "PB59DpACbPm5"
      }
    },
    {
      "cell_type": "code",
      "source": [
        "# first a simple if statement, note again use of indentation to define end of statement:\n",
        "if 2>1:\n",
        "    print(\"yes, 2>1\")\n",
        "else:\n",
        "    print(\"this will never be printed\")\n",
        "\n",
        "\n",
        "# find the warmest year using a combination of a loop and an if statement:\n",
        "Tmax=-100\n",
        "year_max=-100\n",
        "# note the indentations denoting the blocks of the for loop and if statement:\n",
        "for i in range(0,N):  # for loop starts here\n",
        "    if T[i,1]>Tmax:   # if statement starts here\n",
        "        Tmax=T[i,1]\n",
        "        year_max=T[i,0] # this is the last line of both the for loop and the if statement\n",
        "\n",
        "# note how the last element of the array may be referred to via a -1 index:\n",
        "print(\"The first and last years are\",T[0,0],T[-1,0])\n",
        "print(\"The maximum temperature is\", Tmax,\", and it occured in year\",year_max)"
      ],
      "metadata": {
        "id": "lbpxa_nObG3o"
      },
      "execution_count": null,
      "outputs": []
    },
    {
      "cell_type": "markdown",
      "source": [
        "## Plotting two time series on the same axes using 2 $y$-axes"
      ],
      "metadata": {
        "id": "QHKB7Nu8bbpB"
      }
    },
    {
      "cell_type": "code",
      "source": [
        "fig, ax1 = plt.subplots()\n",
        "\n",
        "color = 'tab:red'\n",
        "ax1.set_xlabel('year')\n",
        "ax1.set_ylabel('CO$_2$', color=color)\n",
        "ax1.plot(CO2[:,0], CO2[:,1], color=color)\n",
        "ax1.tick_params(axis='y', labelcolor=color)\n",
        "\n",
        "ax2 = ax1.twinx()  # instantiate a second axes that shares the same x-axis\n",
        "color = 'tab:blue'\n",
        "ax2.set_ylabel('Temperature', color=color)  # we already handled the x-label with ax1\n",
        "ax2.plot(T[:,0],T[:,1], color=color)\n",
        "ax2.tick_params(axis='y', labelcolor=color)\n",
        "\n",
        "fig.tight_layout()  # otherwise the right y-label is slightly clipped\n",
        "plt.show()\n"
      ],
      "metadata": {
        "id": "e2o2hjRZbe6P",
        "outputId": "fc7be1c9-e9c9-414e-c9f1-b3855736b20e",
        "colab": {
          "base_uri": "https://localhost:8080/",
          "height": 487
        }
      },
      "execution_count": 16,
      "outputs": [
        {
          "output_type": "display_data",
          "data": {
            "text/plain": [
              "<Figure size 640x480 with 2 Axes>"
            ],
            "image/png": "[encoded data removed]"
          },
          "metadata": {}
        }
      ]
    },
    {
      "cell_type": "markdown",
      "source": [
        "# <font color=\"red\">Exercise: Plotting two time series on the same axes using 2 $y$-axes<>/font\n",
        "\n",
        "insert a code cell below this point, and plot sine(x) and 5cos(x) from $x=0$ to $x=2\\pi$\n",
        "\n",
        "XX insert a code cell below this point."
      ],
      "metadata": {
        "id": "t0Waz3rsbmBp"
      }
    },
    {
      "cell_type": "code",
      "source": [
        "# code:\n",
        "\n"
      ],
      "metadata": {
        "id": "W0egYPtGiuxZ"
      },
      "execution_count": null,
      "outputs": []
    },
    {
      "cell_type": "markdown",
      "source": [
        "## Getting help from chatGPT\n",
        "\n",
        "#### (a) Provide the following instruction to chatGPT, copy paste the resulting code into a new code cell below, test the code and adjust it as needed to make it work.\n",
        "\n",
        "write a python code to create two numpy arrays with x going from -pi to +pi and y=3*exp(-x)*cos(x). plot y as a function of x using matplotlib. save the result to a pdf file named myfigureoutput.pdf."
      ],
      "metadata": {
        "id": "8AwSDqP2bpDT"
      }
    },
    {
      "cell_type": "code",
      "source": [
        "# Code:\n"
      ],
      "metadata": {
        "id": "mV6U2dlRiqqj"
      },
      "execution_count": null,
      "outputs": []
    },
    {
      "cell_type": "markdown",
      "source": [
        "#### (b) Ask chatGPT to correct the following buggy code, replace the code with the corrected one and make sure it runs."
      ],
      "metadata": {
        "id": "Vygknpuvbr6Y"
      }
    },
    {
      "cell_type": "code",
      "source": [
        "import numpy as np\n",
        "import matplotlib.pyplot as plt\n",
        "\n",
        "x=np.arange(-2*pi,pi,0.1)\n",
        "f=cos(x)\n",
        "plt.figure(1)\n",
        "plt.clf()\n",
        "plt.plot(x,f)\n",
        "# always label axes and provide titles:\n",
        "plt.xlabel('x')\n",
        "plt.ylabel(\"f')\n",
        "plt.title('f(x)=cos(3x)')\n",
        "plt.show()"
      ],
      "metadata": {
        "id": "7fOfHmk_bfWe"
      },
      "execution_count": null,
      "outputs": []
    },
    {
      "cell_type": "markdown",
      "source": [
        "## Using a built-in python function to calculate correlation"
      ],
      "metadata": {
        "id": "zbNlRS9AcB_-"
      }
    },
    {
      "cell_type": "code",
      "source": [
        "# remove mean from each time series using np.mean():\n",
        "# code\n",
        "\n"
      ],
      "metadata": {
        "id": "Ge6OkVT3bt0u"
      },
      "execution_count": null,
      "outputs": []
    },
    {
      "cell_type": "code",
      "source": [
        "\n",
        "# # Assuming T and CO2 are your temperature and CO2 data arrays, respectively\n",
        "\n",
        "# # Remove the mean from each time series using np.nanmean() to ignore NaN values\n",
        "# X = T[:, 1] - np.nanmean(T[:, 1])\n",
        "# Y = CO2[:, 1] - np.nanmean(CO2[:, 1])\n",
        "\n",
        "# # Check for NaNs and remove them from both series\n",
        "# mask = ~np.isnan(X) & ~np.isnan(Y)\n",
        "# X = X[mask]\n",
        "# Y = Y[mask]\n",
        "\n",
        "# # Calculate the correlation coefficient matrix\n",
        "# R = np.corrcoef(X, Y)\n",
        "\n",
        "# # Print the result\n",
        "# print(\"Correlation calculated by np.corrcoef is:\\n\", R)\n"
      ],
      "metadata": {
        "id": "QSBrMYAUj60A"
      },
      "execution_count": null,
      "outputs": []
    },
    {
      "cell_type": "markdown",
      "source": [
        "## <font color='red'> Exercise: writing a function and plotting</font>\n",
        "    \n",
        "<font color='red'>write a function that takes a time series $T_i$ and produces a smoothed version\n",
        "$$ \\overline{T}_i=0.25T_{i-1}+0.5T_{i}+0.25T_{i+1}$$\n",
        "and then plot the two on the same axes (no need to add a second vertical axis in this case). Note that you cannot calculate the smoothed version for the first and last points, and the smoothed time series therefore has 2 less points than the original one.\n",
        "</font>"
      ],
      "metadata": {
        "id": "Ew2G8j2YcXGl"
      }
    },
    {
      "cell_type": "code",
      "source": [
        "# insert your code here\n",
        "\n",
        "def smooth_timeseries(d):\n",
        "    d_smooth=np.zeros(len(d))\n",
        "    for i in XX:\n",
        "        d_smooth[i]=XX\n",
        "    return d_smooth[1:(len(d)-1)] # return only the interior points\n",
        "\n",
        "T_smooth=smooth_timeseries(XX)\n",
        "time_axis=XX # take only interior points of time axis too, for plotting\n",
        "\n",
        "# plot it:\n",
        "# --------\n",
        "fig1= plt.figure()\n",
        "# python array indices are in square brackets and start from zero:\n",
        "plt.plot(XX) # plot original time series\n",
        "plt.plot(XX) # plot smoothed one\n",
        "plt.xlabel(XX)\n",
        "plt.ylabel(XX)\n",
        "plt.title(XX);\n"
      ],
      "metadata": {
        "id": "WrfoPFI0cPZl"
      },
      "execution_count": null,
      "outputs": []
    },
    {
      "cell_type": "code",
      "source": [
        "# def smooth_time_series(T):\n",
        "#     \"\"\"\n",
        "#     Smooths the input time series using the formula:\n",
        "#     T_smoothed[i] = 0.25 * T[i-1] + 0.5 * T[i] + 0.25 * T[i+1]\n",
        "\n",
        "#     Parameters:\n",
        "#         T (numpy array): The original time series.\n",
        "\n",
        "#     Returns:\n",
        "#         numpy array: The smoothed time series.\n",
        "#     \"\"\"\n",
        "#     T_smoothed = np.zeros(len(T) - 2)  # Initialize the smoothed time series with 2 fewer points\n",
        "\n",
        "#     for i in range(1, len(T) - 1):\n",
        "#         T_smoothed[i - 1] = 0.25 * T[i - 1] + 0.5 * T[i] + 0.25 * T[i + 1]\n",
        "\n",
        "#     return T_smoothed\n",
        "\n",
        "# # Use the temperature data from T[:, 1]\n",
        "# temperature_data = T[:, 1]\n",
        "\n",
        "# # Get the smoothed time series\n",
        "# temperature_smoothed = smooth_time_series(temperature_data)\n",
        "\n",
        "# # Plot the original and smoothed time series\n",
        "# plt.figure(figsize=(10, 6))\n",
        "# plt.plot(temperature_data, label='Original Temperature Data')\n",
        "# plt.plot(range(1, len(temperature_data) - 1), temperature_smoothed, label='Smoothed Temperature Data', linestyle='--')\n",
        "\n",
        "# # Add labels and title\n",
        "# plt.xlabel('Index')\n",
        "# plt.ylabel('Temperature Anomaly')\n",
        "# plt.title('Original vs. Smoothed Temperature Data')\n",
        "# plt.legend()\n",
        "\n",
        "# # Show the plot\n",
        "# plt.grid(True)\n",
        "# plt.show()\n"
      ],
      "metadata": {
        "id": "OXHhYtkClWiH"
      },
      "execution_count": null,
      "outputs": []
    },
    {
      "cell_type": "markdown",
      "source": [
        "## Other python data types:\n",
        "\n",
        "We already covered numpy arrays, other important data types are:\n",
        "* lists\n",
        "* dictionaries\n",
        "* tuples"
      ],
      "metadata": {
        "id": "nXSVm0-3ciHd"
      }
    },
    {
      "cell_type": "code",
      "source": [
        "# create a list with the two data sets combined\n",
        "# an empty list:\n",
        "my_data_list=[]\n",
        "my_data_list.append(T)\n",
        "my_data_list.append(CO2)\n",
        "print(\"length of list is:\",len(my_data_list))\n",
        "print(\"type of first element of the list is:\",type(my_data_list[0]))\n",
        "print(\"shape of first element of the list is:\",my_data_list[0].shape)\n",
        "print(\"the [4:8,1] values from the first element of the list is:\",my_data_list[0][4:8,1])"
      ],
      "metadata": {
        "colab": {
          "base_uri": "https://localhost:8080/"
        },
        "id": "MLDHcyylcZz8",
        "outputId": "05cc0491-451d-4054-bebf-7ed5f9c52360"
      },
      "execution_count": null,
      "outputs": [
        {
          "output_type": "stream",
          "name": "stdout",
          "text": [
            "length of list is: 2\n",
            "type of first element of the list is: <class 'numpy.ndarray'>\n",
            "shape of first element of the list is: (812, 2)\n",
            "the [4:8,1] values from the first element of the list is: [-0.292 -0.297 -0.32  -0.467]\n"
          ]
        }
      ]
    },
    {
      "cell_type": "code",
      "source": [
        "# create a dictionary with the two data sets combined\n",
        "# an empty dictionary:\n",
        "my_data_dict={}\n",
        "my_data_dict[\"Temperature\"]=T\n",
        "my_data_dict[\"Carbon-dioxide\"]=CO2\n",
        "\n",
        "print(\"keys in dictionary are:\",my_data_dict.keys())\n",
        "print(\"the first few elements of the first data set are:\",my_data_dict[\"Temperature\"][0:5,0:2])"
      ],
      "metadata": {
        "id": "DPZfO1Zsclfx"
      },
      "execution_count": null,
      "outputs": []
    },
    {
      "cell_type": "markdown",
      "source": [
        "## <font color='red'> Exercise: creating tuples and dictionaries</font>\n",
        "    \n",
        "<font color='red'>create a dictionary with two lists. one is the first 7 letters of the alphabet (as strings) with the key being the string 'letters'; the other the digits from 0 to 9 (as numbers), with the key being the string 'numbers'.\n",
        "    \n",
        "<font color='red'>then print the keys of the dictionary\n",
        "    \n",
        "<font color='red'>print the 2nd-6th elements of the first list in the dictionary.\n",
        "    \n",
        "<font color='red'>write a code to sum the 3rd-8th elements in the second list and print the result\n",
        "</font>"
      ],
      "metadata": {
        "id": "-XYUyD1rcr2Q"
      }
    },
    {
      "cell_type": "code",
      "source": [
        "# Code here:"
      ],
      "metadata": {
        "id": "9UcKNT8hcnnB"
      },
      "execution_count": null,
      "outputs": []
    },
    {
      "cell_type": "markdown",
      "source": [
        "# some tricky stuff\n",
        "\n",
        "### (1) Ranges in python do not include the last element!\n",
        "Note that in the last example, when we specify a range to be 0:5,0:2, the printed output is a 5X2 rather than a 6X3 as one might expect. This is part of the python specification, as demonstrated by the following loop:"
      ],
      "metadata": {
        "id": "qjzODOCccwry"
      }
    },
    {
      "cell_type": "code",
      "source": [
        "for i in range(2,6,1):\n",
        "    print(i)"
      ],
      "metadata": {
        "id": "KMFk5iotctu4"
      },
      "execution_count": null,
      "outputs": []
    },
    {
      "cell_type": "markdown",
      "source": [
        "### (2) Making a copy of a python variable without getting in trouble:\n",
        "An assignment like\n",
        "B=A does not create a new variable B whose value is equal to that of A, but creates a pointer to A. This can lead to troube. Here are the details."
      ],
      "metadata": {
        "id": "IeaEWuxsc1xr"
      }
    },
    {
      "cell_type": "code",
      "source": [
        "# consider an arrays,\n",
        "A=np.array([2,3,4])\n",
        "print(\"A=\",A)\n",
        "print(\"now set B using B=A:\")\n",
        "B=A\n",
        "print(\"A=\",A,\",B=\",B)\n",
        "print(\"changing B using B[1]=17:\")\n",
        "B[1]=17\n",
        "print(\"changes also A:\")\n",
        "print(\"A=\",A,\",B=\",B)\n",
        "\n",
        "# in order to avoid this, create B using, for example:\n",
        "B=A*1"
      ],
      "metadata": {
        "colab": {
          "base_uri": "https://localhost:8080/"
        },
        "id": "uOpWAjqHcyzR",
        "outputId": "e99db786-2a7b-4b18-f691-c80c9386c985"
      },
      "execution_count": null,
      "outputs": [
        {
          "output_type": "stream",
          "name": "stdout",
          "text": [
            "A= [2 3 4]\n",
            "now set B using B=A:\n",
            "A= [2 3 4] ,B= [2 3 4]\n",
            "changing B using B[1]=17:\n",
            "changes also A:\n",
            "A= [ 2 17  4] ,B= [ 2 17  4]\n"
          ]
        }
      ]
    },
    {
      "cell_type": "markdown",
      "source": [
        "### <font color='red'> Exercise: using ranges and making copy of variables</font>\n",
        "    \n",
        "<font color='red'>(A) write a for loop that prints the numbers in the range -2 to 8<br>\n",
        "    (B) duplicate the above example, replacing B=A with B=A*1 and verify that this creates an independent array that is not modified when A is.\n",
        "</font>"
      ],
      "metadata": {
        "id": "7ziqD_CHc6y9"
      }
    },
    {
      "cell_type": "code",
      "source": [
        "# insert your code here"
      ],
      "metadata": {
        "id": "_3QyKRwgc4nZ"
      },
      "execution_count": null,
      "outputs": []
    }
  ]
}