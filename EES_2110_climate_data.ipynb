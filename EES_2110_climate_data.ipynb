{
  "nbformat": 4,
  "nbformat_minor": 0,
  "metadata": {
    "colab": {
      "provenance": [],
      "toc_visible": true,
      "authorship_tag": "ABX9TyMqq+sgxRHF7gybRteZA7lb",
      "include_colab_link": true
    },
    "kernelspec": {
      "name": "python3",
      "display_name": "Python 3"
    },
    "language_info": {
      "name": "python"
    }
  },
  "cells": [
    {
      "cell_type": "markdown",
      "metadata": {
        "id": "view-in-github",
        "colab_type": "text"
      },
      "source": [
        "<a href=\"https://colab.research.google.com/github/HUSILEBAI/EES-2110/blob/main/EES_2110_climate_data.ipynb\" target=\"_parent\"><img src=\"https://colab.research.google.com/assets/colab-badge.svg\" alt=\"Open In Colab\"/></a>"
      ]
    },
    {
      "cell_type": "markdown",
      "source": [
        "# <font color=green> EES 2110 Time Series Plots for Temperature and CO2 </font>\n",
        "\n",
        "    Python exercise 3:\n",
        "    Objective: Get familiar with time series plots."
      ],
      "metadata": {
        "id": "2C1UehO7cfGI"
      }
    },
    {
      "cell_type": "markdown",
      "source": [
        "# Step 1: Connect with your Google Drive.\n",
        "\n",
        "We will load the necessary data from your Google Drive."
      ],
      "metadata": {
        "id": "mUcOgAV--khV"
      }
    },
    {
      "cell_type": "code",
      "source": [
        "#connect with your google drive\n",
        "from google.colab import drive  #import the drive library\n",
        "drive.mount('/content/drive')  #mount"
      ],
      "metadata": {
        "id": "_EDx-P_WcpVu",
        "colab": {
          "base_uri": "https://localhost:8080/"
        },
        "outputId": "0b538adb-ab1f-4186-d956-f464c1f96ba7"
      },
      "execution_count": 1,
      "outputs": [
        {
          "output_type": "stream",
          "name": "stdout",
          "text": [
            "Drive already mounted at /content/drive; to attempt to forcibly remount, call drive.mount(\"/content/drive\", force_remount=True).\n"
          ]
        }
      ]
    },
    {
      "cell_type": "markdown",
      "source": [
        "# Step 2: Importing Libraries\n",
        "Let’s start by importing the libraries needed for this session."
      ],
      "metadata": {
        "id": "wu1wiOl_-vM9"
      }
    },
    {
      "cell_type": "code",
      "source": [
        "import numpy as np               # A library for numerical calculations\n",
        "import matplotlib.pyplot as plt  # For plotting\n",
        "import pandas as pd              # For handling data and extracting stored variables\n"
      ],
      "metadata": {
        "id": "SHy5-oOrOBJl"
      },
      "execution_count": 2,
      "outputs": []
    },
    {
      "cell_type": "markdown",
      "source": [
        "# Step 3: Loading Climate Data\n",
        "We'll load a climate dataset from the CSV file located in your Google Drive."
      ],
      "metadata": {
        "id": "4_7rV-Bz-2tC"
      }
    },
    {
      "cell_type": "code",
      "source": [
        "# Load the CSV file from your Google Drive\n",
        "# Note: Change the data path below to the correct path where your CSV file is located.\n",
        "df_climate = pd.read_csv('/content/drive/MyDrive/EES2110/climate_data.csv')\n",
        "\n",
        "# Display the DataFrame to inspect its contents\n",
        "df_climate\n"
      ],
      "metadata": {
        "id": "ksMb914Kbz4d",
        "colab": {
          "base_uri": "https://localhost:8080/",
          "height": 419
        },
        "outputId": "0f0b5daf-58a0-4693-c8af-a089da2a6499"
      },
      "execution_count": 7,
      "outputs": [
        {
          "output_type": "execute_result",
          "data": {
            "text/plain": [
              "     T_column1  T_column2  CO2_column1  CO2_column2\n",
              "0       1850.0     -0.418    1855.0000       285.70\n",
              "1       1851.0     -0.233    1860.0000       286.30\n",
              "2       1852.0     -0.229    1865.0000       287.20\n",
              "3       1853.0     -0.270    1870.0000       288.20\n",
              "4       1854.0     -0.292    1875.0000       289.40\n",
              "..         ...        ...          ...          ...\n",
              "807        NaN        NaN    2023.7083       418.51\n",
              "808        NaN        NaN    2023.7917       418.82\n",
              "809        NaN        NaN    2023.8750       420.46\n",
              "810        NaN        NaN    2023.9583       421.86\n",
              "811        NaN        NaN    2024.0417       422.80\n",
              "\n",
              "[812 rows x 4 columns]"
            ],
            "text/html": [
              "\n",
              "  <div id=\"df-3e9da5da-3659-43a5-bacb-d6a41f565899\" class=\"colab-df-container\">\n",
              "    <div>\n",
              "<style scoped>\n",
              "    .dataframe tbody tr th:only-of-type {\n",
              "        vertical-align: middle;\n",
              "    }\n",
              "\n",
              "    .dataframe tbody tr th {\n",
              "        vertical-align: top;\n",
              "    }\n",
              "\n",
              "    .dataframe thead th {\n",
              "        text-align: right;\n",
              "    }\n",
              "</style>\n",
              "<table border=\"1\" class=\"dataframe\">\n",
              "  <thead>\n",
              "    <tr style=\"text-align: right;\">\n",
              "      <th></th>\n",
              "      <th>T_column1</th>\n",
              "      <th>T_column2</th>\n",
              "      <th>CO2_column1</th>\n",
              "      <th>CO2_column2</th>\n",
              "    </tr>\n",
              "  </thead>\n",
              "  <tbody>\n",
              "    <tr>\n",
              "      <th>0</th>\n",
              "      <td>1850.0</td>\n",
              "      <td>-0.418</td>\n",
              "      <td>1855.0000</td>\n",
              "      <td>285.70</td>\n",
              "    </tr>\n",
              "    <tr>\n",
              "      <th>1</th>\n",
              "      <td>1851.0</td>\n",
              "      <td>-0.233</td>\n",
              "      <td>1860.0000</td>\n",
              "      <td>286.30</td>\n",
              "    </tr>\n",
              "    <tr>\n",
              "      <th>2</th>\n",
              "      <td>1852.0</td>\n",
              "      <td>-0.229</td>\n",
              "      <td>1865.0000</td>\n",
              "      <td>287.20</td>\n",
              "    </tr>\n",
              "    <tr>\n",
              "      <th>3</th>\n",
              "      <td>1853.0</td>\n",
              "      <td>-0.270</td>\n",
              "      <td>1870.0000</td>\n",
              "      <td>288.20</td>\n",
              "    </tr>\n",
              "    <tr>\n",
              "      <th>4</th>\n",
              "      <td>1854.0</td>\n",
              "      <td>-0.292</td>\n",
              "      <td>1875.0000</td>\n",
              "      <td>289.40</td>\n",
              "    </tr>\n",
              "    <tr>\n",
              "      <th>...</th>\n",
              "      <td>...</td>\n",
              "      <td>...</td>\n",
              "      <td>...</td>\n",
              "      <td>...</td>\n",
              "    </tr>\n",
              "    <tr>\n",
              "      <th>807</th>\n",
              "      <td>NaN</td>\n",
              "      <td>NaN</td>\n",
              "      <td>2023.7083</td>\n",
              "      <td>418.51</td>\n",
              "    </tr>\n",
              "    <tr>\n",
              "      <th>808</th>\n",
              "      <td>NaN</td>\n",
              "      <td>NaN</td>\n",
              "      <td>2023.7917</td>\n",
              "      <td>418.82</td>\n",
              "    </tr>\n",
              "    <tr>\n",
              "      <th>809</th>\n",
              "      <td>NaN</td>\n",
              "      <td>NaN</td>\n",
              "      <td>2023.8750</td>\n",
              "      <td>420.46</td>\n",
              "    </tr>\n",
              "    <tr>\n",
              "      <th>810</th>\n",
              "      <td>NaN</td>\n",
              "      <td>NaN</td>\n",
              "      <td>2023.9583</td>\n",
              "      <td>421.86</td>\n",
              "    </tr>\n",
              "    <tr>\n",
              "      <th>811</th>\n",
              "      <td>NaN</td>\n",
              "      <td>NaN</td>\n",
              "      <td>2024.0417</td>\n",
              "      <td>422.80</td>\n",
              "    </tr>\n",
              "  </tbody>\n",
              "</table>\n",
              "<p>812 rows × 4 columns</p>\n",
              "</div>\n",
              "    <div class=\"colab-df-buttons\">\n",
              "\n",
              "  <div class=\"colab-df-container\">\n",
              "    <button class=\"colab-df-convert\" onclick=\"convertToInteractive('df-3e9da5da-3659-43a5-bacb-d6a41f565899')\"\n",
              "            title=\"Convert this dataframe to an interactive table.\"\n",
              "            style=\"display:none;\">\n",
              "\n",
              "  <svg xmlns=\"http://www.w3.org/2000/svg\" height=\"24px\" viewBox=\"0 -960 960 960\">\n",
              "    <path d=\"M120-120v-720h720v720H120Zm60-500h600v-160H180v160Zm220 220h160v-160H400v160Zm0 220h160v-160H400v160ZM180-400h160v-160H180v160Zm440 0h160v-160H620v160ZM180-180h160v-160H180v160Zm440 0h160v-160H620v160Z\"/>\n",
              "  </svg>\n",
              "    </button>\n",
              "\n",
              "  <style>\n",
              "    .colab-df-container {\n",
              "      display:flex;\n",
              "      gap: 12px;\n",
              "    }\n",
              "\n",
              "    .colab-df-convert {\n",
              "      background-color: #E8F0FE;\n",
              "      border: none;\n",
              "      border-radius: 50%;\n",
              "      cursor: pointer;\n",
              "      display: none;\n",
              "      fill: #1967D2;\n",
              "      height: 32px;\n",
              "      padding: 0 0 0 0;\n",
              "      width: 32px;\n",
              "    }\n",
              "\n",
              "    .colab-df-convert:hover {\n",
              "      background-color: #E2EBFA;\n",
              "      box-shadow: 0px 1px 2px rgba(60, 64, 67, 0.3), 0px 1px 3px 1px rgba(60, 64, 67, 0.15);\n",
              "      fill: #174EA6;\n",
              "    }\n",
              "\n",
              "    .colab-df-buttons div {\n",
              "      margin-bottom: 4px;\n",
              "    }\n",
              "\n",
              "    [theme=dark] .colab-df-convert {\n",
              "      background-color: #3B4455;\n",
              "      fill: #D2E3FC;\n",
              "    }\n",
              "\n",
              "    [theme=dark] .colab-df-convert:hover {\n",
              "      background-color: #434B5C;\n",
              "      box-shadow: 0px 1px 3px 1px rgba(0, 0, 0, 0.15);\n",
              "      filter: drop-shadow(0px 1px 2px rgba(0, 0, 0, 0.3));\n",
              "      fill: #FFFFFF;\n",
              "    }\n",
              "  </style>\n",
              "\n",
              "    <script>\n",
              "      const buttonEl =\n",
              "        document.querySelector('#df-3e9da5da-3659-43a5-bacb-d6a41f565899 button.colab-df-convert');\n",
              "      buttonEl.style.display =\n",
              "        google.colab.kernel.accessAllowed ? 'block' : 'none';\n",
              "\n",
              "      async function convertToInteractive(key) {\n",
              "        const element = document.querySelector('#df-3e9da5da-3659-43a5-bacb-d6a41f565899');\n",
              "        const dataTable =\n",
              "          await google.colab.kernel.invokeFunction('convertToInteractive',\n",
              "                                                    [key], {});\n",
              "        if (!dataTable) return;\n",
              "\n",
              "        const docLinkHtml = 'Like what you see? Visit the ' +\n",
              "          '<a target=\"_blank\" href=https://colab.research.google.com/notebooks/data_table.ipynb>data table notebook</a>'\n",
              "          + ' to learn more about interactive tables.';\n",
              "        element.innerHTML = '';\n",
              "        dataTable['output_type'] = 'display_data';\n",
              "        await google.colab.output.renderOutput(dataTable, element);\n",
              "        const docLink = document.createElement('div');\n",
              "        docLink.innerHTML = docLinkHtml;\n",
              "        element.appendChild(docLink);\n",
              "      }\n",
              "    </script>\n",
              "  </div>\n",
              "\n",
              "\n",
              "<div id=\"df-90a5ec46-8b7c-46f3-ac8b-c806243ebe88\">\n",
              "  <button class=\"colab-df-quickchart\" onclick=\"quickchart('df-90a5ec46-8b7c-46f3-ac8b-c806243ebe88')\"\n",
              "            title=\"Suggest charts\"\n",
              "            style=\"display:none;\">\n",
              "\n",
              "<svg xmlns=\"http://www.w3.org/2000/svg\" height=\"24px\"viewBox=\"0 0 24 24\"\n",
              "     width=\"24px\">\n",
              "    <g>\n",
              "        <path d=\"M19 3H5c-1.1 0-2 .9-2 2v14c0 1.1.9 2 2 2h14c1.1 0 2-.9 2-2V5c0-1.1-.9-2-2-2zM9 17H7v-7h2v7zm4 0h-2V7h2v10zm4 0h-2v-4h2v4z\"/>\n",
              "    </g>\n",
              "</svg>\n",
              "  </button>\n",
              "\n",
              "<style>\n",
              "  .colab-df-quickchart {\n",
              "      --bg-color: #E8F0FE;\n",
              "      --fill-color: #1967D2;\n",
              "      --hover-bg-color: #E2EBFA;\n",
              "      --hover-fill-color: #174EA6;\n",
              "      --disabled-fill-color: #AAA;\n",
              "      --disabled-bg-color: #DDD;\n",
              "  }\n",
              "\n",
              "  [theme=dark] .colab-df-quickchart {\n",
              "      --bg-color: #3B4455;\n",
              "      --fill-color: #D2E3FC;\n",
              "      --hover-bg-color: #434B5C;\n",
              "      --hover-fill-color: #FFFFFF;\n",
              "      --disabled-bg-color: #3B4455;\n",
              "      --disabled-fill-color: #666;\n",
              "  }\n",
              "\n",
              "  .colab-df-quickchart {\n",
              "    background-color: var(--bg-color);\n",
              "    border: none;\n",
              "    border-radius: 50%;\n",
              "    cursor: pointer;\n",
              "    display: none;\n",
              "    fill: var(--fill-color);\n",
              "    height: 32px;\n",
              "    padding: 0;\n",
              "    width: 32px;\n",
              "  }\n",
              "\n",
              "  .colab-df-quickchart:hover {\n",
              "    background-color: var(--hover-bg-color);\n",
              "    box-shadow: 0 1px 2px rgba(60, 64, 67, 0.3), 0 1px 3px 1px rgba(60, 64, 67, 0.15);\n",
              "    fill: var(--button-hover-fill-color);\n",
              "  }\n",
              "\n",
              "  .colab-df-quickchart-complete:disabled,\n",
              "  .colab-df-quickchart-complete:disabled:hover {\n",
              "    background-color: var(--disabled-bg-color);\n",
              "    fill: var(--disabled-fill-color);\n",
              "    box-shadow: none;\n",
              "  }\n",
              "\n",
              "  .colab-df-spinner {\n",
              "    border: 2px solid var(--fill-color);\n",
              "    border-color: transparent;\n",
              "    border-bottom-color: var(--fill-color);\n",
              "    animation:\n",
              "      spin 1s steps(1) infinite;\n",
              "  }\n",
              "\n",
              "  @keyframes spin {\n",
              "    0% {\n",
              "      border-color: transparent;\n",
              "      border-bottom-color: var(--fill-color);\n",
              "      border-left-color: var(--fill-color);\n",
              "    }\n",
              "    20% {\n",
              "      border-color: transparent;\n",
              "      border-left-color: var(--fill-color);\n",
              "      border-top-color: var(--fill-color);\n",
              "    }\n",
              "    30% {\n",
              "      border-color: transparent;\n",
              "      border-left-color: var(--fill-color);\n",
              "      border-top-color: var(--fill-color);\n",
              "      border-right-color: var(--fill-color);\n",
              "    }\n",
              "    40% {\n",
              "      border-color: transparent;\n",
              "      border-right-color: var(--fill-color);\n",
              "      border-top-color: var(--fill-color);\n",
              "    }\n",
              "    60% {\n",
              "      border-color: transparent;\n",
              "      border-right-color: var(--fill-color);\n",
              "    }\n",
              "    80% {\n",
              "      border-color: transparent;\n",
              "      border-right-color: var(--fill-color);\n",
              "      border-bottom-color: var(--fill-color);\n",
              "    }\n",
              "    90% {\n",
              "      border-color: transparent;\n",
              "      border-bottom-color: var(--fill-color);\n",
              "    }\n",
              "  }\n",
              "</style>\n",
              "\n",
              "  <script>\n",
              "    async function quickchart(key) {\n",
              "      const quickchartButtonEl =\n",
              "        document.querySelector('#' + key + ' button');\n",
              "      quickchartButtonEl.disabled = true;  // To prevent multiple clicks.\n",
              "      quickchartButtonEl.classList.add('colab-df-spinner');\n",
              "      try {\n",
              "        const charts = await google.colab.kernel.invokeFunction(\n",
              "            'suggestCharts', [key], {});\n",
              "      } catch (error) {\n",
              "        console.error('Error during call to suggestCharts:', error);\n",
              "      }\n",
              "      quickchartButtonEl.classList.remove('colab-df-spinner');\n",
              "      quickchartButtonEl.classList.add('colab-df-quickchart-complete');\n",
              "    }\n",
              "    (() => {\n",
              "      let quickchartButtonEl =\n",
              "        document.querySelector('#df-90a5ec46-8b7c-46f3-ac8b-c806243ebe88 button');\n",
              "      quickchartButtonEl.style.display =\n",
              "        google.colab.kernel.accessAllowed ? 'block' : 'none';\n",
              "    })();\n",
              "  </script>\n",
              "</div>\n",
              "\n",
              "  <div id=\"id_5dceec1a-309c-4751-9cc3-27843a34fd4b\">\n",
              "    <style>\n",
              "      .colab-df-generate {\n",
              "        background-color: #E8F0FE;\n",
              "        border: none;\n",
              "        border-radius: 50%;\n",
              "        cursor: pointer;\n",
              "        display: none;\n",
              "        fill: #1967D2;\n",
              "        height: 32px;\n",
              "        padding: 0 0 0 0;\n",
              "        width: 32px;\n",
              "      }\n",
              "\n",
              "      .colab-df-generate:hover {\n",
              "        background-color: #E2EBFA;\n",
              "        box-shadow: 0px 1px 2px rgba(60, 64, 67, 0.3), 0px 1px 3px 1px rgba(60, 64, 67, 0.15);\n",
              "        fill: #174EA6;\n",
              "      }\n",
              "\n",
              "      [theme=dark] .colab-df-generate {\n",
              "        background-color: #3B4455;\n",
              "        fill: #D2E3FC;\n",
              "      }\n",
              "\n",
              "      [theme=dark] .colab-df-generate:hover {\n",
              "        background-color: #434B5C;\n",
              "        box-shadow: 0px 1px 3px 1px rgba(0, 0, 0, 0.15);\n",
              "        filter: drop-shadow(0px 1px 2px rgba(0, 0, 0, 0.3));\n",
              "        fill: #FFFFFF;\n",
              "      }\n",
              "    </style>\n",
              "    <button class=\"colab-df-generate\" onclick=\"generateWithVariable('df_climate')\"\n",
              "            title=\"Generate code using this dataframe.\"\n",
              "            style=\"display:none;\">\n",
              "\n",
              "  <svg xmlns=\"http://www.w3.org/2000/svg\" height=\"24px\"viewBox=\"0 0 24 24\"\n",
              "       width=\"24px\">\n",
              "    <path d=\"M7,19H8.4L18.45,9,17,7.55,7,17.6ZM5,21V16.75L18.45,3.32a2,2,0,0,1,2.83,0l1.4,1.43a1.91,1.91,0,0,1,.58,1.4,1.91,1.91,0,0,1-.58,1.4L9.25,21ZM18.45,9,17,7.55Zm-12,3A5.31,5.31,0,0,0,4.9,8.1,5.31,5.31,0,0,0,1,6.5,5.31,5.31,0,0,0,4.9,4.9,5.31,5.31,0,0,0,6.5,1,5.31,5.31,0,0,0,8.1,4.9,5.31,5.31,0,0,0,12,6.5,5.46,5.46,0,0,0,6.5,12Z\"/>\n",
              "  </svg>\n",
              "    </button>\n",
              "    <script>\n",
              "      (() => {\n",
              "      const buttonEl =\n",
              "        document.querySelector('#id_5dceec1a-309c-4751-9cc3-27843a34fd4b button.colab-df-generate');\n",
              "      buttonEl.style.display =\n",
              "        google.colab.kernel.accessAllowed ? 'block' : 'none';\n",
              "\n",
              "      buttonEl.onclick = () => {\n",
              "        google.colab.notebook.generateWithVariable('df_climate');\n",
              "      }\n",
              "      })();\n",
              "    </script>\n",
              "  </div>\n",
              "\n",
              "    </div>\n",
              "  </div>\n"
            ],
            "application/vnd.google.colaboratory.intrinsic+json": {
              "type": "dataframe",
              "variable_name": "df_climate",
              "summary": "{\n  \"name\": \"df_climate\",\n  \"rows\": 812,\n  \"fields\": [\n    {\n      \"column\": \"T_column1\",\n      \"properties\": {\n        \"dtype\": \"number\",\n        \"std\": 50.37360419902471,\n        \"min\": 1850.0,\n        \"max\": 2023.0,\n        \"num_unique_values\": 174,\n        \"samples\": [\n          2005.0,\n          1994.0,\n          1951.0\n        ],\n        \"semantic_type\": \"\",\n        \"description\": \"\"\n      }\n    },\n    {\n      \"column\": \"T_column2\",\n      \"properties\": {\n        \"dtype\": \"number\",\n        \"std\": 0.37920869934460544,\n        \"min\": -0.598,\n        \"max\": 1.1,\n        \"num_unique_values\": 165,\n        \"samples\": [\n          0.234,\n          0.05,\n          0.361\n        ],\n        \"semantic_type\": \"\",\n        \"description\": \"\"\n      }\n    },\n    {\n      \"column\": \"CO2_column1\",\n      \"properties\": {\n        \"dtype\": \"number\",\n        \"std\": 23.74783665475053,\n        \"min\": 1855.0,\n        \"max\": 2024.0417,\n        \"num_unique_values\": 812,\n        \"samples\": [\n          1977.0417,\n          2004.375,\n          1975.375\n        ],\n        \"semantic_type\": \"\",\n        \"description\": \"\"\n      }\n    },\n    {\n      \"column\": \"CO2_column2\",\n      \"properties\": {\n        \"dtype\": \"number\",\n        \"std\": 32.46709693864813,\n        \"min\": 285.7,\n        \"max\": 424.0,\n        \"num_unique_values\": 791,\n        \"samples\": [\n          337.69,\n          313.84,\n          346.66\n        ],\n        \"semantic_type\": \"\",\n        \"description\": \"\"\n      }\n    }\n  ]\n}"
            }
          },
          "metadata": {},
          "execution_count": 7
        }
      ]
    },
    {
      "cell_type": "markdown",
      "source": [
        "# Step 4: Extracting Data from the DataFrame\n",
        "Now, let’s extract the columns we’ll be working with for temperature (T) and CO2 data."
      ],
      "metadata": {
        "id": "QJ08uyr2_KAu"
      }
    },
    {
      "cell_type": "code",
      "source": [
        "# Extract the T and CO2 columns from the DataFrame\n",
        "# 'T_column1' and 'T_column2' represent the columns for temperature data\n",
        "# 'CO2_column1' and 'CO2_column2' represent the columns for CO2 data\n",
        "\n",
        "# Extract temperature data\n",
        "T = df_climate[['T_column1', 'T_column2']].values\n",
        "\n",
        "# Extract CO2 data\n",
        "CO2 = df_climate[['CO2_column1', 'CO2_column2']].values\n",
        "\n",
        "# Print the dimensions of the temperature data\n",
        "print(\"The dimensions of the input temperature data are:\", T.shape)\n",
        "# Note: T is a NumPy array with two columns - one for years and one for temperature values\n",
        "\n",
        "\n"
      ],
      "metadata": {
        "id": "XkNuy6hwg-cS",
        "colab": {
          "base_uri": "https://localhost:8080/"
        },
        "outputId": "ebaf471c-a314-4488-db15-ccebb0b1b7df"
      },
      "execution_count": 8,
      "outputs": [
        {
          "output_type": "stream",
          "name": "stdout",
          "text": [
            "The dimensions of the input temperature data are: (812, 2)\n"
          ]
        }
      ]
    },
    {
      "cell_type": "markdown",
      "source": [
        "# Step 5: Using a For Loop\n",
        "Let’s read and print temperature data for a few years using a for loop."
      ],
      "metadata": {
        "id": "adXMgIDnaTvg"
      }
    },
    {
      "cell_type": "code",
      "source": [
        "# Print data for a few years using a for loop:\n",
        "print(\"\\n year  , Temperature\")\n",
        "for i in range(0, 10):\n",
        "    print(T[i, 0], \",\", T[i, 1])\n",
        "# note that the for loop is indicated by the indentation\n",
        "# block, in the above case only a single line is in the loop.\n",
        "\n"
      ],
      "metadata": {
        "id": "vmS5tUG_hVQK"
      },
      "execution_count": null,
      "outputs": []
    },
    {
      "cell_type": "markdown",
      "source": [
        "# Step 6: Calculating the Mean Temperature (For Loop)\n",
        "We’ll now calculate the average temperature using a for loop.\n",
        "\n",
        "* Note: The temperature record is an anomaly from the mean, so the average should be near zero."
      ],
      "metadata": {
        "id": "TScpKJ_5_b8F"
      }
    },
    {
      "cell_type": "code",
      "source": [
        "# As another example of a for loop, calculate the mean temperature using a for loop:\n",
        "N = len(T[:, 0])\n",
        "Tavg = 0\n",
        "count = 0  # To count valid temperature values\n",
        "\n",
        "for i in range(0, N):\n",
        "    if not np.isnan(T[i, 1]):  # Only include non-NaN values\n",
        "        Tavg = Tavg + T[i, 1]\n",
        "        count += 1\n",
        "\n",
        "if count > 0:\n",
        "    Tavg = Tavg / count\n",
        "else:\n",
        "    Tavg = np.nan  # Handle the case where there are no valid values\n",
        "\n",
        "print(\"\\naveraged temperature is\", Tavg)\n",
        "# Note that the average is basically zero, as the temperature record is an anomaly from the mean.\n",
        "\n"
      ],
      "metadata": {
        "id": "rRXoPkMjhZaT"
      },
      "execution_count": null,
      "outputs": []
    },
    {
      "cell_type": "markdown",
      "source": [
        "# Step 7: Using Numpy for the Mean\n",
        "Now, let's use a Numpy function to calculate the mean temperature:"
      ],
      "metadata": {
        "id": "p-eYIFLo_lxB"
      }
    },
    {
      "cell_type": "code",
      "source": [
        "# Calculate the mean using a numpy function, excluding NaNs:\n",
        "Tavg_numpy = np.nanmean(T[:, 1])\n",
        "print(\"averaged temperature calculated by numpy function is\", Tavg_numpy)"
      ],
      "metadata": {
        "id": "T2PepFHrhdEy"
      },
      "execution_count": null,
      "outputs": []
    },
    {
      "cell_type": "markdown",
      "source": [
        "## <font color=\"red\"> Exercise: for loop: </font>\n",
        "    \n",
        "<font color=\"red\"> Write a loop that sums the numbers from 1 to 2020\n",
        "</font>"
      ],
      "metadata": {
        "id": "7gC4kIw1awWp"
      }
    },
    {
      "cell_type": "code",
      "source": [
        "# code here:\n",
        "\n"
      ],
      "metadata": {
        "id": "OIc42EIAahZL"
      },
      "execution_count": null,
      "outputs": []
    },
    {
      "cell_type": "markdown",
      "source": [
        "# Step 8: Plotting Temperature Data\n",
        "Let’s plot the temperature data over time."
      ],
      "metadata": {
        "id": "UiuElihfa10B"
      }
    },
    {
      "cell_type": "code",
      "source": [
        "# plot it:\n",
        "# --------\n",
        "import matplotlib.pyplot as plt\n",
        "fig1= plt.figure(1,dpi=300)\n",
        "# python array indices are in square brackets and start from zero:\n",
        "plt.plot(T[:,0],T[:,1],color=\"b\")\n",
        "plt.xlabel(\"Year\")\n",
        "plt.ylabel(\"Temperature (C)\")\n",
        "plt.title(\"observed Temperature record\");"
      ],
      "metadata": {
        "id": "0wAWaT7Ua2PW"
      },
      "execution_count": null,
      "outputs": []
    },
    {
      "cell_type": "markdown",
      "source": [
        "## <font color=\"red\"> Exercise: line plot</font>\n",
        "\n",
        "<font color=\"red\">\n",
        "Plot the function\n",
        "y\n",
        "(\n",
        "x\n",
        ")\n",
        "=\n",
        "sin\n",
        "⁡\n",
        "(\n",
        "x\n",
        ")\n",
        "y(x)=sin(x) for\n",
        "x\n",
        "=\n",
        "−\n",
        "π\n",
        "x=−π to\n",
        "π\n",
        "π.\n",
        "\n",
        "Hint: Create an x array using np.arange(-np.pi, np.pi, 0.1) and use np.sin() to compute the sine values.\n",
        "plot</font>"
      ],
      "metadata": {
        "id": "-dreuPzNbKRP"
      }
    },
    {
      "cell_type": "code",
      "source": [
        "# code here:\n",
        "\n",
        "XX"
      ],
      "metadata": {
        "id": "bne5nnHwa3_l"
      },
      "execution_count": null,
      "outputs": []
    },
    {
      "cell_type": "markdown",
      "source": [
        "# Step 9: Using an If Statement\n",
        "We’ll now use an if statement and a loop to find the warmest year in the dataset."
      ],
      "metadata": {
        "id": "PB59DpACbPm5"
      }
    },
    {
      "cell_type": "code",
      "source": [
        "# first a simple if statement, note again use of indentation to define end of statement:\n",
        "if 2>1:\n",
        "    print(\"yes, 2>1\")\n",
        "else:\n",
        "    print(\"this will never be printed\")\n",
        "\n",
        "\n",
        "# find the warmest year using a combination of a loop and an if statement:\n",
        "Tmax=-100\n",
        "year_max=-100\n",
        "# note the indentations denoting the blocks of the for loop and if statement:\n",
        "for i in range(0,N):  # for loop starts here\n",
        "    if T[i,1]>Tmax:   # if statement starts here\n",
        "        Tmax=T[i,1]\n",
        "        year_max=T[i,0] # this is the last line of both the for loop and the if statement\n",
        "\n",
        "# note how the last element of the array may be referred to via a -1 index:\n",
        "print(\"The first and last years are\",T[0,0],T[-1,0])\n",
        "print(\"The maximum temperature is\", Tmax,\", and it occured in year\",year_max)"
      ],
      "metadata": {
        "id": "lbpxa_nObG3o"
      },
      "execution_count": null,
      "outputs": []
    },
    {
      "cell_type": "markdown",
      "source": [
        "# Step 10: Plotting Two Time Series (Temperature and CO2)\n",
        "We will now plot both temperature and CO2 on the same figure using two y-axes."
      ],
      "metadata": {
        "id": "QHKB7Nu8bbpB"
      }
    },
    {
      "cell_type": "code",
      "source": [
        "fig, ax1 = plt.subplots()\n",
        "\n",
        "color = 'tab:red'\n",
        "ax1.set_xlabel('year')\n",
        "ax1.set_ylabel('CO$_2$', color=color)\n",
        "ax1.plot(CO2[:,0], CO2[:,1], color=color)\n",
        "ax1.tick_params(axis='y', labelcolor=color)\n",
        "\n",
        "ax2 = ax1.twinx()  # instantiate a second axes that shares the same x-axis\n",
        "color = 'tab:blue'\n",
        "ax2.set_ylabel('Temperature', color=color)  # we already handled the x-label with ax1\n",
        "ax2.plot(T[:,0],T[:,1], color=color)\n",
        "ax2.tick_params(axis='y', labelcolor=color)\n",
        "\n",
        "fig.tight_layout()  # otherwise the right y-label is slightly clipped\n",
        "plt.show()\n"
      ],
      "metadata": {
        "id": "e2o2hjRZbe6P"
      },
      "execution_count": null,
      "outputs": []
    },
    {
      "cell_type": "markdown",
      "source": [
        "# <font color=\"red\">Exercise: Plotting two time series on the same axes using 2 $y$-axes<font>\n",
        "\n",
        "Insert a code cell below this point, and plot sine(x) and 5.cos(x) from $x=0$ to $x=2\\pi$\n",
        "\n",
        "XX insert a code cell below this point."
      ],
      "metadata": {
        "id": "t0Waz3rsbmBp"
      }
    },
    {
      "cell_type": "code",
      "source": [
        "# code:\n",
        "\n"
      ],
      "metadata": {
        "id": "W0egYPtGiuxZ"
      },
      "execution_count": null,
      "outputs": []
    },
    {
      "cell_type": "markdown",
      "source": [
        "## Getting help from chatGPT\n",
        "\n",
        "#### (a) Provide the following instruction to chatGPT, copy paste the resulting code into a new code cell below, test the code and adjust it as needed to make it work.\n",
        "\n",
        "write a python code to create two numpy arrays with x going from -pi to +pi and y=3*exp(-x)*cos(x). plot y as a function of x using matplotlib. save the result to a pdf file named myfigureoutput.pdf."
      ],
      "metadata": {
        "id": "8AwSDqP2bpDT"
      }
    },
    {
      "cell_type": "code",
      "source": [
        "# Code:\n"
      ],
      "metadata": {
        "id": "mV6U2dlRiqqj"
      },
      "execution_count": null,
      "outputs": []
    },
    {
      "cell_type": "markdown",
      "source": [
        "#### (b) Ask chatGPT to correct the following buggy code, replace the code with the corrected one and make sure it runs."
      ],
      "metadata": {
        "id": "Vygknpuvbr6Y"
      }
    },
    {
      "cell_type": "code",
      "source": [
        "import numpy as np\n",
        "import matplotlib.pyplot as plt\n",
        "\n",
        "x=np.arange(-2*pi,pi,0.1)\n",
        "f=cos(x)\n",
        "plt.figure(1)\n",
        "plt.clf()\n",
        "plt.plot(x,f)\n",
        "# always label axes and provide titles:\n",
        "plt.xlabel('x')\n",
        "plt.ylabel(\"f')\n",
        "plt.title('f(x)=cos(3x)')\n",
        "plt.show()"
      ],
      "metadata": {
        "id": "7fOfHmk_bfWe"
      },
      "execution_count": null,
      "outputs": []
    },
    {
      "cell_type": "markdown",
      "source": [
        "## Using a built-in python function to calculate correlation"
      ],
      "metadata": {
        "id": "zbNlRS9AcB_-"
      }
    },
    {
      "cell_type": "code",
      "source": [
        "# remove mean from each time series using np.mean():\n",
        "# code\n",
        "\n"
      ],
      "metadata": {
        "id": "Ge6OkVT3bt0u"
      },
      "execution_count": null,
      "outputs": []
    },
    {
      "cell_type": "code",
      "source": [
        "\n",
        "# # Assuming T and CO2 are your temperature and CO2 data arrays, respectively\n",
        "\n",
        "# # Remove the mean from each time series using np.nanmean() to ignore NaN values\n",
        "# X = T[:, 1] - np.nanmean(T[:, 1])\n",
        "# Y = CO2[:, 1] - np.nanmean(CO2[:, 1])\n",
        "\n",
        "# # Check for NaNs and remove them from both series\n",
        "# mask = ~np.isnan(X) & ~np.isnan(Y)\n",
        "# X = X[mask]\n",
        "# Y = Y[mask]\n",
        "\n",
        "# # Calculate the correlation coefficient matrix\n",
        "# R = np.corrcoef(X, Y)\n",
        "\n",
        "# # Print the result\n",
        "# print(\"Correlation calculated by np.corrcoef is:\\n\", R)\n"
      ],
      "metadata": {
        "id": "QSBrMYAUj60A"
      },
      "execution_count": null,
      "outputs": []
    },
    {
      "cell_type": "markdown",
      "source": [
        "## <font color='red'> Exercise: writing a function and plotting</font>\n",
        "    \n",
        "<font color='red'>write a function that takes a time series $T_i$ and produces a smoothed version\n",
        "$$ \\overline{T}_i=0.25T_{i-1}+0.5T_{i}+0.25T_{i+1}$$\n",
        "and then plot the two on the same axes (no need to add a second vertical axis in this case). Note that you cannot calculate the smoothed version for the first and last points, and the smoothed time series therefore has 2 less points than the original one.\n",
        "</font>"
      ],
      "metadata": {
        "id": "Ew2G8j2YcXGl"
      }
    },
    {
      "cell_type": "code",
      "source": [
        "# insert your code here\n",
        "\n",
        "def smooth_timeseries(d):\n",
        "    d_smooth=np.zeros(len(d))\n",
        "    for i in XX:\n",
        "        d_smooth[i]=XX\n",
        "    return d_smooth[1:(len(d)-1)] # return only the interior points\n",
        "\n",
        "T_smooth=smooth_timeseries(XX)\n",
        "time_axis=XX # take only interior points of time axis too, for plotting\n",
        "\n",
        "# plot it:\n",
        "# --------\n",
        "fig1= plt.figure()\n",
        "# python array indices are in square brackets and start from zero:\n",
        "plt.plot(XX) # plot original time series\n",
        "plt.plot(XX) # plot smoothed one\n",
        "plt.xlabel(XX)\n",
        "plt.ylabel(XX)\n",
        "plt.title(XX);\n"
      ],
      "metadata": {
        "id": "WrfoPFI0cPZl"
      },
      "execution_count": null,
      "outputs": []
    },
    {
      "cell_type": "code",
      "source": [
        "# def smooth_time_series(T):\n",
        "#     \"\"\"\n",
        "#     Smooths the input time series using the formula:\n",
        "#     T_smoothed[i] = 0.25 * T[i-1] + 0.5 * T[i] + 0.25 * T[i+1]\n",
        "\n",
        "#     Parameters:\n",
        "#         T (numpy array): The original time series.\n",
        "\n",
        "#     Returns:\n",
        "#         numpy array: The smoothed time series.\n",
        "#     \"\"\"\n",
        "#     T_smoothed = np.zeros(len(T) - 2)  # Initialize the smoothed time series with 2 fewer points\n",
        "\n",
        "#     for i in range(1, len(T) - 1):\n",
        "#         T_smoothed[i - 1] = 0.25 * T[i - 1] + 0.5 * T[i] + 0.25 * T[i + 1]\n",
        "\n",
        "#     return T_smoothed\n",
        "\n",
        "# # Use the temperature data from T[:, 1]\n",
        "# temperature_data = T[:, 1]\n",
        "\n",
        "# # Get the smoothed time series\n",
        "# temperature_smoothed = smooth_time_series(temperature_data)\n",
        "\n",
        "# # Plot the original and smoothed time series\n",
        "# plt.figure(figsize=(10, 6))\n",
        "# plt.plot(temperature_data, label='Original Temperature Data')\n",
        "# plt.plot(range(1, len(temperature_data) - 1), temperature_smoothed, label='Smoothed Temperature Data', linestyle='--')\n",
        "\n",
        "# # Add labels and title\n",
        "# plt.xlabel('Index')\n",
        "# plt.ylabel('Temperature Anomaly')\n",
        "# plt.title('Original vs. Smoothed Temperature Data')\n",
        "# plt.legend()\n",
        "\n",
        "# # Show the plot\n",
        "# plt.grid(True)\n",
        "# plt.show()\n"
      ],
      "metadata": {
        "id": "OXHhYtkClWiH"
      },
      "execution_count": null,
      "outputs": []
    },
    {
      "cell_type": "markdown",
      "source": [
        "## Other python data types:\n",
        "\n",
        "We already covered numpy arrays, other important data types are:\n",
        "* lists\n",
        "* dictionaries\n",
        "* tuples"
      ],
      "metadata": {
        "id": "nXSVm0-3ciHd"
      }
    },
    {
      "cell_type": "code",
      "source": [
        "# create a list with the two data sets combined\n",
        "# an empty list:\n",
        "my_data_list=[]\n",
        "my_data_list.append(T)\n",
        "my_data_list.append(CO2)\n",
        "print(\"length of list is:\",len(my_data_list))\n",
        "print(\"type of first element of the list is:\",type(my_data_list[0]))\n",
        "print(\"shape of first element of the list is:\",my_data_list[0].shape)\n",
        "print(\"the [4:8,1] values from the first element of the list is:\",my_data_list[0][4:8,1])"
      ],
      "metadata": {
        "colab": {
          "base_uri": "https://localhost:8080/"
        },
        "id": "MLDHcyylcZz8",
        "outputId": "05cc0491-451d-4054-bebf-7ed5f9c52360"
      },
      "execution_count": null,
      "outputs": [
        {
          "output_type": "stream",
          "name": "stdout",
          "text": [
            "length of list is: 2\n",
            "type of first element of the list is: <class 'numpy.ndarray'>\n",
            "shape of first element of the list is: (812, 2)\n",
            "the [4:8,1] values from the first element of the list is: [-0.292 -0.297 -0.32  -0.467]\n"
          ]
        }
      ]
    },
    {
      "cell_type": "code",
      "source": [
        "# create a dictionary with the two data sets combined\n",
        "# an empty dictionary:\n",
        "my_data_dict={}\n",
        "my_data_dict[\"Temperature\"]=T\n",
        "my_data_dict[\"Carbon-dioxide\"]=CO2\n",
        "\n",
        "print(\"keys in dictionary are:\",my_data_dict.keys())\n",
        "print(\"the first few elements of the first data set are:\",my_data_dict[\"Temperature\"][0:5,0:2])"
      ],
      "metadata": {
        "id": "DPZfO1Zsclfx"
      },
      "execution_count": null,
      "outputs": []
    },
    {
      "cell_type": "markdown",
      "source": [
        "## <font color='red'> Exercise: creating tuples and dictionaries</font>\n",
        "    \n",
        "<font color='red'>create a dictionary with two lists. one is the first 7 letters of the alphabet (as strings) with the key being the string 'letters'; the other the digits from 0 to 9 (as numbers), with the key being the string 'numbers'.\n",
        "    \n",
        "<font color='red'>then print the keys of the dictionary\n",
        "    \n",
        "<font color='red'>print the 2nd-6th elements of the first list in the dictionary.\n",
        "    \n",
        "<font color='red'>write a code to sum the 3rd-8th elements in the second list and print the result\n",
        "</font>"
      ],
      "metadata": {
        "id": "-XYUyD1rcr2Q"
      }
    },
    {
      "cell_type": "code",
      "source": [
        "# Code here:"
      ],
      "metadata": {
        "id": "9UcKNT8hcnnB"
      },
      "execution_count": null,
      "outputs": []
    },
    {
      "cell_type": "markdown",
      "source": [
        "# some tricky stuff\n",
        "\n",
        "### (1) Ranges in python do not include the last element!\n",
        "Note that in the last example, when we specify a range to be 0:5,0:2, the printed output is a 5X2 rather than a 6X3 as one might expect. This is part of the python specification, as demonstrated by the following loop:"
      ],
      "metadata": {
        "id": "qjzODOCccwry"
      }
    },
    {
      "cell_type": "code",
      "source": [
        "for i in range(2,6,1):\n",
        "    print(i)"
      ],
      "metadata": {
        "id": "KMFk5iotctu4"
      },
      "execution_count": null,
      "outputs": []
    },
    {
      "cell_type": "markdown",
      "source": [
        "### (2) Making a copy of a python variable without getting in trouble:\n",
        "An assignment like\n",
        "B=A does not create a new variable B whose value is equal to that of A, but creates a pointer to A. This can lead to troube. Here are the details."
      ],
      "metadata": {
        "id": "IeaEWuxsc1xr"
      }
    },
    {
      "cell_type": "code",
      "source": [
        "# consider an arrays,\n",
        "A=np.array([2,3,4])\n",
        "print(\"A=\",A)\n",
        "print(\"now set B using B=A:\")\n",
        "B=A\n",
        "print(\"A=\",A,\",B=\",B)\n",
        "print(\"changing B using B[1]=17:\")\n",
        "B[1]=17\n",
        "print(\"changes also A:\")\n",
        "print(\"A=\",A,\",B=\",B)\n",
        "\n",
        "# in order to avoid this, create B using, for example:\n",
        "B=A*1"
      ],
      "metadata": {
        "colab": {
          "base_uri": "https://localhost:8080/"
        },
        "id": "uOpWAjqHcyzR",
        "outputId": "e99db786-2a7b-4b18-f691-c80c9386c985"
      },
      "execution_count": null,
      "outputs": [
        {
          "output_type": "stream",
          "name": "stdout",
          "text": [
            "A= [2 3 4]\n",
            "now set B using B=A:\n",
            "A= [2 3 4] ,B= [2 3 4]\n",
            "changing B using B[1]=17:\n",
            "changes also A:\n",
            "A= [ 2 17  4] ,B= [ 2 17  4]\n"
          ]
        }
      ]
    },
    {
      "cell_type": "markdown",
      "source": [
        "### <font color='red'> Exercise: using ranges and making copy of variables</font>\n",
        "    \n",
        "<font color='red'>(A) write a for loop that prints the numbers in the range -2 to 8<br>\n",
        "    (B) duplicate the above example, replacing B=A with B=A*1 and verify that this creates an independent array that is not modified when A is.\n",
        "</font>"
      ],
      "metadata": {
        "id": "7ziqD_CHc6y9"
      }
    },
    {
      "cell_type": "code",
      "source": [
        "# insert your code here\n",
        "\n"
      ],
      "metadata": {
        "id": "_3QyKRwgc4nZ"
      },
      "execution_count": null,
      "outputs": []
    }
  ]
}