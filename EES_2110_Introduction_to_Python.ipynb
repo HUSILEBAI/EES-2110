{
  "nbformat": 4,
  "nbformat_minor": 0,
  "metadata": {
    "colab": {
      "provenance": [],
      "toc_visible": true,
      "authorship_tag": "ABX9TyMbxIPH71g833P6M8Y9cwp5",
      "include_colab_link": true
    },
    "kernelspec": {
      "name": "python3",
      "display_name": "Python 3"
    },
    "language_info": {
      "name": "python"
    }
  },
  "cells": [
    {
      "cell_type": "markdown",
      "metadata": {
        "id": "view-in-github",
        "colab_type": "text"
      },
      "source": [
        "<a href=\"https://colab.research.google.com/github/HUSILEBAI/EES-2110/blob/main/EES_2110_Introduction_to_Python.ipynb\" target=\"_parent\"><img src=\"https://colab.research.google.com/assets/colab-badge.svg\" alt=\"Open In Colab\"/></a>"
      ]
    },
    {
      "cell_type": "markdown",
      "source": [
        "# <font color=green> Introduction to Climate Change </font>\n",
        "\n",
        "    Python session 1:\n",
        "    Objective: Get familiar with the basic syntax of Python."
      ],
      "metadata": {
        "id": "2C1UehO7cfGI"
      }
    },
    {
      "cell_type": "code",
      "source": [
        "#connect with your google drive\n",
        "from google.colab import drive  #import the drive library\n",
        "drive.mount('/content/drive')  #mount"
      ],
      "metadata": {
        "id": "_EDx-P_WcpVu"
      },
      "execution_count": null,
      "outputs": []
    },
    {
      "cell_type": "markdown",
      "source": [
        "# <font color=\"red\">  Introducing Python! and Other Prerequisites\n",
        "\n",
        "## Exercise: Click on this text cell to open it. Add your name as a subtitle above using two hashtags (`##`), then press `Shift + Enter` to recompile the cell.\n",
        "\n",
        "## First, import the needed libraries, introducing \"name spaces\":\n"
      ],
      "metadata": {
        "id": "spqfhc-ncQdH"
      }
    },
    {
      "cell_type": "markdown",
      "source": [
        "### This is a code cell. Place the cursor in it and press `Shift + Enter` to run it.\n",
        "### *Do the same for all code and markdown cells below.*\n"
      ],
      "metadata": {
        "id": "gT_0FM8CBvwC"
      }
    },
    {
      "cell_type": "code",
      "source": [
        "import numpy as np               # A library for numerical calculations\n",
        "import matplotlib.pyplot as plt  # For plotting\n",
        "import pandas as pd              # For handling data and extracting stored variables\n",
        "\n",
        "print('I just ran my first Google Colab notebook cell!')  # Print a message\n"
      ],
      "metadata": {
        "id": "bXlWQMsrcN4f"
      },
      "execution_count": null,
      "outputs": []
    },
    {
      "cell_type": "markdown",
      "source": [
        "# Section 1\n",
        "# <font color=\"red\">  String Manipulation Exercises\n",
        "Welcome to your first set of Python string exercises! Below, you'll find a series of tasks that will help you get comfortable working with strings in Python. Follow the instructions, and don't forget to print your results to check your work!"
      ],
      "metadata": {
        "id": "BBahh6VvGoWi"
      }
    },
    {
      "cell_type": "code",
      "source": [
        "# Print a message about climate change\n",
        "print(\"Climate change is one of the biggest challenges of our time!\")  # Print a message"
      ],
      "metadata": {
        "id": "lbKQ4GBIDtRD"
      },
      "execution_count": null,
      "outputs": []
    },
    {
      "cell_type": "markdown",
      "source": [
        "<font color='blue'>**Task**: Modify the code above to print your own message about why climate change is important to you."
      ],
      "metadata": {
        "id": "OlEuLRNoDxvb"
      }
    },
    {
      "cell_type": "code",
      "source": [
        "# print your own message about why climate change is important to you\n",
        "\n",
        "XX"
      ],
      "metadata": {
        "id": "KiY5E5BhD7Kp"
      },
      "execution_count": null,
      "outputs": []
    },
    {
      "cell_type": "markdown",
      "source": [
        "\n",
        "## <font color=\"red\">  Exercise 1: printing</font>\n",
        "\n",
        "Set a variable:\n",
        "\n",
        "myname='your name here'\n",
        "    \n",
        "print(\"my name is \",myname)\n",
        "</font>"
      ],
      "metadata": {
        "id": "ZLAHqk8caAvk"
      }
    },
    {
      "cell_type": "code",
      "source": [
        "# Example\n",
        "myname = 'Husile Bai'  # Replace with your name\n",
        "print(\"My name is\", myname)  # Print the message with the variable"
      ],
      "metadata": {
        "id": "hiuaXwGCgEjH"
      },
      "execution_count": null,
      "outputs": []
    },
    {
      "cell_type": "code",
      "source": [
        "# insert your code below this line; note that these two lines are a comment in a\n",
        "# code cell (they starts with #)\n",
        "\n",
        "XX"
      ],
      "metadata": {
        "id": "HaS8GZs5Z5oZ"
      },
      "execution_count": null,
      "outputs": []
    },
    {
      "cell_type": "markdown",
      "source": [
        "### <font color=\"blue\"> A few more exercises\n",
        "1. Concatenation of Strings:\n",
        "   \n",
        "   Combine your first and last names into a single string and print it."
      ],
      "metadata": {
        "id": "fyNZzLJ48h_U"
      }
    },
    {
      "cell_type": "code",
      "source": [
        "first_name = 'your first name here'  # Replace with your first name\n",
        "last_name = 'your last name here'    # Replace with your last name\n",
        "\n",
        "full_name = first_name + \" \" + last_name  # Concatenate the strings\n",
        "print(\"My full name is\", full_name)  # Print the result\n"
      ],
      "metadata": {
        "id": "Kd_p145S8g1_"
      },
      "execution_count": null,
      "outputs": []
    },
    {
      "cell_type": "markdown",
      "source": [
        "2. String Length:\n",
        "\n",
        "   Calculate and print the length of the string."
      ],
      "metadata": {
        "id": "Q-gLR7MJ8xU8"
      }
    },
    {
      "cell_type": "code",
      "source": [
        "my_string = \"Hello, World!\"  # Replace with your string\n",
        "\n",
        "string_length = len(my_string)  # Calculate the length of the string\n",
        "print(\"The length of the string is\", string_length)  # Print the result\n"
      ],
      "metadata": {
        "id": "aji2ogS29AmK"
      },
      "execution_count": null,
      "outputs": []
    },
    {
      "cell_type": "markdown",
      "source": [
        "3. String Indexing:\n",
        "\n",
        "    Access and print the first and last letters of the string."
      ],
      "metadata": {
        "id": "KaOlsMrb9NTT"
      }
    },
    {
      "cell_type": "code",
      "source": [
        "my_string = \"Vanderbilt\"  # Replace with your string\n",
        "\n",
        "first_letter = my_string[0]  # Access the first letter\n",
        "last_letter = my_string[-1]  # Access the last letter\n",
        "\n",
        "print(\"The first letter is\", first_letter)  # Print the first letter\n",
        "print(\"The last letter is\", last_letter)  # Print the last letter\n"
      ],
      "metadata": {
        "id": "4Fg_rOLm9UYa"
      },
      "execution_count": null,
      "outputs": []
    },
    {
      "cell_type": "markdown",
      "source": [
        "4. String Slicing:\n",
        "    \n",
        "    Extract and print specific parts of the string using slicing."
      ],
      "metadata": {
        "id": "4yL6lT2e9b0e"
      }
    },
    {
      "cell_type": "code",
      "source": [
        "my_string = \"Introduction to Climate Change\"  # Replace with your string\n",
        "\n",
        "first_word = my_string[:12]  # Extract the first word\n",
        "last_word = my_string[-6:]  # Extract the last word\n",
        "\n",
        "print(\"The first word is:\", first_word)  # Print the first word\n",
        "print(\"The last word is:\", last_word)  # Print the last word\n"
      ],
      "metadata": {
        "id": "kQmAZ5__9htd"
      },
      "execution_count": null,
      "outputs": []
    },
    {
      "cell_type": "markdown",
      "source": [
        "5. String Replacement:\n",
        "    \n",
        "    Replace a word in the string and print the modified version."
      ],
      "metadata": {
        "id": "OVJN0Caw9x5G"
      }
    },
    {
      "cell_type": "code",
      "source": [
        "original_string = \"I love programming!\"  # Replace with your string\n",
        "\n",
        "modified_string = original_string.replace(\"programming\", \"Python\")  # Replace \"programming\" with \"Python\"\n",
        "\n",
        "print(\"Original string:\", original_string)  # Print the original string\n",
        "print(\"Modified string:\", modified_string)  # Print the modified string\n"
      ],
      "metadata": {
        "id": "88wzUAOF9268"
      },
      "execution_count": null,
      "outputs": []
    },
    {
      "cell_type": "markdown",
      "source": [
        "6. String Case Change:\n",
        "\n",
        "    Change the case of the string to uppercase and lowercase, then print the results."
      ],
      "metadata": {
        "id": "Ki8YqJ-L97Ww"
      }
    },
    {
      "cell_type": "code",
      "source": [
        "my_string = \"Climate Change is Important\"  # Replace with your string\n",
        "\n",
        "print(\"Uppercase:\", my_string.upper())  # Convert to uppercase\n",
        "print(\"Lowercase:\", my_string.lower())  # Convert to lowercase\n"
      ],
      "metadata": {
        "id": "DLHUImge-BMS"
      },
      "execution_count": null,
      "outputs": []
    },
    {
      "cell_type": "markdown",
      "source": [
        "## <font color=\"red\"> Exercise 2: Variables and Basic Calculations\n",
        "\n",
        "\n",
        "    Objective: Learn how to use variables and perform basic arithmetic operations."
      ],
      "metadata": {
        "id": "R73r7rXgEvik"
      }
    },
    {
      "cell_type": "code",
      "source": [
        "# The average global temperature increase (in Celsius) since pre-industrial times\n",
        "temperature_increase = 1.2  # Replace with the actual value\n",
        "\n",
        "# Print the temperature increase\n",
        "print(\"The average global temperature has increased by\", temperature_increase, \"°C since pre-industrial times.\")\n"
      ],
      "metadata": {
        "id": "XRy4X0QmE8Xn"
      },
      "execution_count": null,
      "outputs": []
    },
    {
      "cell_type": "markdown",
      "source": [
        "<font color='blue'>**Task**: Calculate the temperature increase in Fahrenheit using the formula: F = C * 9/5 + 32. Print the result."
      ],
      "metadata": {
        "id": "WBOMtWraFAFB"
      }
    },
    {
      "cell_type": "code",
      "source": [
        "# your code;\n",
        "\n",
        "XX"
      ],
      "metadata": {
        "id": "ZbC_Q39jFfp9"
      },
      "execution_count": null,
      "outputs": []
    },
    {
      "cell_type": "markdown",
      "source": [
        "## <font color='red'>Exercise 3: Working with Lists\n",
        "\n",
        "\n",
        "    Objective: Introduce lists and basic list operations."
      ],
      "metadata": {
        "id": "eotPbFuWFLKs"
      }
    },
    {
      "cell_type": "code",
      "source": [
        "# List of years with significant climate events\n",
        "significant_years = [1998, 2005, 2010, 2016, 2020]\n",
        "\n",
        "# Print the list of significant years\n",
        "print(\"Years with significant climate events:\", significant_years)\n"
      ],
      "metadata": {
        "id": "9G-1H91XFFVc"
      },
      "execution_count": null,
      "outputs": []
    },
    {
      "cell_type": "markdown",
      "source": [
        "<font color='blue'>**Task**: Add the current year to the list and print the updated list."
      ],
      "metadata": {
        "id": "7GgdmQcPFYHS"
      }
    },
    {
      "cell_type": "code",
      "source": [
        "# Your code:\n",
        "\n",
        "XX"
      ],
      "metadata": {
        "id": "LYbb0PRUFagI"
      },
      "execution_count": null,
      "outputs": []
    },
    {
      "cell_type": "markdown",
      "source": [
        "## <font color='red'>Exercise 4: Basic Data Analysis with Lists\n",
        "\n",
        "\n",
        "    Objective: Perform simple data analysis using Python lists."
      ],
      "metadata": {
        "id": "HuiSl8y6Fnw9"
      }
    },
    {
      "cell_type": "code",
      "source": [
        "# List of average global temperatures (in °C) for five recent years\n",
        "temperatures = [14.9, 15.1, 14.8, 15.0, 15.2]\n",
        "\n",
        "# Calculate the average temperature\n",
        "average_temperature = sum(temperatures) / len(temperatures)  # Calculate the average\n",
        "\n",
        "# Print the average temperature\n",
        "print(\"The average global temperature over the last five years is\", average_temperature, \"°C.\")\n"
      ],
      "metadata": {
        "id": "d4CNsjldFt3h"
      },
      "execution_count": null,
      "outputs": []
    },
    {
      "cell_type": "markdown",
      "source": [
        "<font color='blue'>**Task**: Find the year with the highest temperature and print it."
      ],
      "metadata": {
        "id": "51JRZYu0F3n7"
      }
    },
    {
      "cell_type": "code",
      "source": [
        "# your code:\n",
        "\n",
        "XX"
      ],
      "metadata": {
        "id": "vIUSEo2iF8qA"
      },
      "execution_count": null,
      "outputs": []
    },
    {
      "cell_type": "markdown",
      "source": [
        "## <font color='red'>Exercise 5: Introduction to Functions\n",
        "\n",
        "\n",
        "    Objective: Learn how to define and use functions in Python."
      ],
      "metadata": {
        "id": "LbUDU9SNHi6A"
      }
    },
    {
      "cell_type": "code",
      "source": [
        "# Function to convert Celsius to Fahrenheit\n",
        "def celsius_to_fahrenheit(celsius):  # Define the function\n",
        "    return celsius * 9/5 + 32  # Convert Celsius to Fahrenheit\n",
        "\n",
        "# Test the function\n",
        "temperature_celsius = 15.0\n",
        "temperature_fahrenheit = celsius_to_fahrenheit(temperature_celsius)  # Call the function\n",
        "\n",
        "print(temperature_celsius, \"°C is equal to\", temperature_fahrenheit, \"°F.\")  # Print the result\n"
      ],
      "metadata": {
        "id": "SEMOi1ObHpA-"
      },
      "execution_count": null,
      "outputs": []
    },
    {
      "cell_type": "markdown",
      "source": [
        "<font color='blue'>**Task**: Write a function to convert Fahrenheit to Celsius and test it with a temperature of 68°F."
      ],
      "metadata": {
        "id": "p_Z_bSu0HspI"
      }
    },
    {
      "cell_type": "code",
      "source": [
        "# your code;\n",
        "\n",
        "XX"
      ],
      "metadata": {
        "id": "ISNv0RW5H-qR"
      },
      "execution_count": null,
      "outputs": []
    },
    {
      "cell_type": "markdown",
      "source": [
        "## <font color='red'>Exercise 6: Working with Simple Climate Data\n",
        "\n",
        "\n",
        "    Objective: Introduce the basics of handling climate-related data using Python lists."
      ],
      "metadata": {
        "id": "3GUTLdLEIATm"
      }
    },
    {
      "cell_type": "code",
      "source": [
        "# List of CO2 concentrations (in ppm) for recent years\n",
        "co2_concentrations = [400, 405, 410, 415, 420]\n",
        "\n",
        "# Calculate the increase in CO2 concentration over the period\n",
        "co2_increase = co2_concentrations[-1] - co2_concentrations[0]  # Calculate the difference\n",
        "\n",
        "# Print the increase in CO2 concentration\n",
        "print(\"CO2 concentration has increased by\", co2_increase, \"ppm over the period.\")  # Print the result\n"
      ],
      "metadata": {
        "id": "tFg_ffnSIJvy"
      },
      "execution_count": null,
      "outputs": []
    },
    {
      "cell_type": "markdown",
      "source": [
        "<font color='blue'>**Task**: Calculate and print the average annual increase in CO2 concentration."
      ],
      "metadata": {
        "id": "bOetxtEIIMNL"
      }
    },
    {
      "cell_type": "code",
      "source": [
        "# your code:\n",
        "\n",
        "XX"
      ],
      "metadata": {
        "id": "6S1OTqMbIRfS"
      },
      "execution_count": null,
      "outputs": []
    },
    {
      "cell_type": "markdown",
      "source": [
        "## <font color='red'>Exercise 7: Plotting Simple Data (Introduction to Matplotlib)\n",
        "\n",
        "\n",
        "    Objective: Introduce basic plotting to visualize data."
      ],
      "metadata": {
        "id": "ZjQ2JdnPIZRs"
      }
    },
    {
      "cell_type": "code",
      "source": [
        "import matplotlib.pyplot as plt  # Import the Matplotlib library\n",
        "\n",
        "# Years corresponding to the CO2 concentrations\n",
        "years = [2016, 2017, 2018, 2019, 2020]  # Replace with your years\n",
        "\n",
        "# CO2 concentrations (ppm)\n",
        "co2_concentrations = [400, 405, 410, 415, 420]  # Replace with your data\n",
        "\n",
        "# Plot CO2 concentration over time\n",
        "plt.plot(years, co2_concentrations, marker='o')  # Create a line plot with markers\n",
        "plt.xlabel('Year')  # Label the x-axis\n",
        "plt.ylabel('CO2 Concentration (ppm)')  # Label the y-axis\n",
        "plt.title('CO2 Concentration Over Time')  # Add a title\n",
        "plt.grid(True)  # Add a grid for better visualization\n",
        "plt.show()  # Display the plot\n"
      ],
      "metadata": {
        "id": "lRl4tr7eIYLt"
      },
      "execution_count": null,
      "outputs": []
    },
    {
      "cell_type": "markdown",
      "source": [
        "<font color='blue'>**Task**: Modify the plot to include the years up to 2023 and add hypothetical CO2 concentrations for these years."
      ],
      "metadata": {
        "id": "GqU4qLFbIqFJ"
      }
    },
    {
      "cell_type": "code",
      "source": [
        "# your code:\n",
        "\n",
        "XX"
      ],
      "metadata": {
        "id": "jGi81jbLIvfK"
      },
      "execution_count": null,
      "outputs": []
    },
    {
      "cell_type": "markdown",
      "source": [
        "## <font color='red'>Exercise 8: Introduction to Loops\n",
        "    Objective: Learn how to use loops to automate repetitive tasks."
      ],
      "metadata": {
        "id": "KhJ7UFp_JBte"
      }
    },
    {
      "cell_type": "code",
      "source": [
        "# Print a message for each year in the significant_years list\n",
        "for year in significant_years:\n",
        "    print(\"In\", year, \"a significant climate event occurred.\")\n"
      ],
      "metadata": {
        "id": "jCsEPp1LJK4a"
      },
      "execution_count": null,
      "outputs": []
    },
    {
      "cell_type": "markdown",
      "source": [
        "<font color='blue'>**Task**: Modify the loop to print a message only for years after 2000."
      ],
      "metadata": {
        "id": "vht3oYMjJNA0"
      }
    },
    {
      "cell_type": "code",
      "source": [
        "# your code:\n",
        "\n",
        "XX"
      ],
      "metadata": {
        "id": "nuNdgMuZJSbg"
      },
      "execution_count": null,
      "outputs": []
    },
    {
      "cell_type": "markdown",
      "source": [
        "## <font color='red'>Exercise 9: Simple Conditionals\n",
        "    Objective: Introduce basic conditional statements."
      ],
      "metadata": {
        "id": "-1UWVTmfJSvs"
      }
    },
    {
      "cell_type": "code",
      "source": [
        "# Check if the temperature increase is above 1.5°C\n",
        "if temperature_increase > 1.5:  # Check the condition\n",
        "    print(\"The temperature increase is above the 1.5°C threshold!\")\n",
        "else:\n",
        "    print(\"The temperature increase is below the 1.5°C threshold.\")\n"
      ],
      "metadata": {
        "id": "I54LvqXiJW1Z"
      },
      "execution_count": null,
      "outputs": []
    },
    {
      "cell_type": "markdown",
      "source": [
        "<font color='blue'>**Task**: Modify the code to print a different message if the temperature increase is exactly 1.5°C."
      ],
      "metadata": {
        "id": "lgwV4TuQJZzD"
      }
    },
    {
      "cell_type": "code",
      "source": [
        "# your code:\n",
        "\n",
        "XX"
      ],
      "metadata": {
        "id": "UekEPxXCJZL5"
      },
      "execution_count": null,
      "outputs": []
    },
    {
      "cell_type": "markdown",
      "source": [
        "## <font color='red'>Exercise 10: Exploring Simple Climate Data with Pandas\n",
        "    Objective: Introduce basic data handling using the Pandas library."
      ],
      "metadata": {
        "id": "kUtZXW0vJeUM"
      }
    },
    {
      "cell_type": "code",
      "source": [
        "import pandas as pd\n",
        "\n",
        "# Create a simple DataFrame with years and CO2 concentrations\n",
        "data = {'Year': years, 'CO2 Concentration (ppm)': co2_concentrations}  # Create a dictionary\n",
        "df = pd.DataFrame(data)  # Create a DataFrame from the dictionary\n",
        "\n",
        "# Print the DataFrame\n",
        "print(df)\n"
      ],
      "metadata": {
        "id": "nQhnvs2wJkTm"
      },
      "execution_count": null,
      "outputs": []
    },
    {
      "cell_type": "markdown",
      "source": [
        "<font color='blue'>Task: Add a column for the global average temperature for each year and print the updated DataFrame."
      ],
      "metadata": {
        "id": "F7o7AqUwJo-P"
      }
    },
    {
      "cell_type": "code",
      "source": [
        "# your code:\n",
        "\n",
        "XX"
      ],
      "metadata": {
        "id": "8oNcYJtKJsD2"
      },
      "execution_count": null,
      "outputs": []
    },
    {
      "cell_type": "markdown",
      "source": [
        "## <font color=\"red\"> Exercise 11: Creating a Markdown Cell with an Equation\n",
        "\n",
        "1. **Add a new text cell below this point** by clicking on the \"+ Text\" button at the top of the notebook or by hovering below this cell and selecting \"+ Text\" when it appears.\n",
        "\n",
        "2. **Insert a title using hashtag(s)** (e.g., `## Equation Example`).\n",
        "\n",
        "3. **Insert an equation** using LaTeX syntax, for example: `$$E=mc^2$$`.\n",
        "\n",
        "  $$E=mc^2$$\n",
        "\n",
        "4. **Change the color of the equation to blue** and **everything else to green** using HTML tags:\n",
        "\n",
        "   ```html\n",
        "   <font color=\"green\">## Equation Example</font>\n",
        "\n",
        "   <font color=\"blue\">$$E=mc^2$$</font>\n",
        "\n",
        "\n",
        "\n",
        "---\n",
        "\n",
        "```markdown\n",
        "XX insert new markdown cell below this point.\n",
        "\n"
      ],
      "metadata": {
        "id": "2htD_jzQaM1Q"
      }
    },
    {
      "cell_type": "markdown",
      "source": [
        "## <font color=\"red\"> Practice Common Mathematical Equations\n",
        "\n",
        "Here are some common equations formatted using LaTeX:\n",
        "\n",
        "1. **Pythagorean Theorem:**\n",
        "\n",
        "   \n",
        "\n",
        "2. **Area of a Circle:**\n",
        "\n",
        "\n",
        "\n",
        "3. **Newton's Second Law:**\n",
        "\n",
        "\n",
        "\n",
        "\n",
        "  \n"
      ],
      "metadata": {
        "id": "LLzpuI3r_qOO"
      }
    },
    {
      "cell_type": "markdown",
      "source": [
        "## <font color=\"red\"> Basic Equations for Climate Change\n",
        "\n",
        "Here are some fundamental equations that are relevant to understanding climate change:\n",
        "\n",
        "1. **Stefan-Boltzmann Law** (relates the energy radiated by a black body to its temperature):\n",
        "   $$E = \\sigma T^4$$\n",
        "   where:\n",
        "   - \\( E \\) is the radiated energy per unit area,\n",
        "   - \\( \\sigma \\) is the Stefan-Boltzmann constant,\n",
        "   - \\( T \\) is the absolute temperature of the black body.\n",
        "\n",
        "2. **Energy Balance Equation** (simplified):\n",
        "   $$ \\text{Incoming Solar Radiation} = \\text{Outgoing Terrestrial Radiation} $$\n",
        "   or\n",
        "   $$ \\frac{S(1 - \\alpha)}{4} = \\sigma T^4 $$\n",
        "   where:\n",
        "   - \\( S \\) is the solar constant,\n",
        "   - \\( \\alpha \\) is the Earth's albedo,\n",
        "   - \\( \\sigma \\) is the Stefan-Boltzmann constant,\n",
        "   - \\( T \\) is the effective temperature of Earth.\n",
        "\n",
        "\n",
        "These equations provide a foundation for understanding the physical processes that drive Earth's climate system.\n",
        "\n"
      ],
      "metadata": {
        "id": "lHtoID85AtGb"
      }
    },
    {
      "cell_type": "markdown",
      "source": [
        "## A for loop: reading a time series data and printing the data values"
      ],
      "metadata": {
        "id": "adXMgIDnaTvg"
      }
    },
    {
      "cell_type": "code",
      "source": [
        "\n",
        "# Load the padded data from the CSV file\n",
        "df_climate = pd.read_csv('/content/drive/MyDrive/EES2110/climate_data.csv')\n",
        "\n",
        "# df_climate\n"
      ],
      "metadata": {
        "id": "ksMb914Kbz4d"
      },
      "execution_count": null,
      "outputs": []
    },
    {
      "cell_type": "code",
      "source": [
        "# Extract the T and CO2 columns from the DataFrame\n",
        "T = df_climate[['T_column1', 'T_column2']].values\n",
        "CO2 = df_climate[['CO2_column1', 'CO2_column2']].values\n",
        "\n",
        "print(\"The dimensions of the input temperature data are:\", T.shape)\n",
        "# note that T is an array with two columns, one for years and one for temperature\n",
        "\n"
      ],
      "metadata": {
        "colab": {
          "base_uri": "https://localhost:8080/"
        },
        "id": "XkNuy6hwg-cS",
        "outputId": "bb8c85c5-f8ac-448f-a87d-da4fed9f8571"
      },
      "execution_count": null,
      "outputs": [
        {
          "output_type": "stream",
          "name": "stdout",
          "text": [
            "The dimensions of the input temperature data are: (812, 2)\n"
          ]
        }
      ]
    },
    {
      "cell_type": "code",
      "source": [
        "# Print data for a few years using a for loop:\n",
        "print(\"\\n year  , Temperature\")\n",
        "for i in range(0, 10):\n",
        "    print(T[i, 0], \",\", T[i, 1])\n",
        "# note that the for loop is indicated by the indentation\n",
        "# block, in the above case only a single line is in the loop.\n",
        "\n"
      ],
      "metadata": {
        "id": "vmS5tUG_hVQK"
      },
      "execution_count": null,
      "outputs": []
    },
    {
      "cell_type": "code",
      "source": [
        "# As another example of a for loop, calculate the mean temperature using a for loop:\n",
        "N = len(T[:, 0])\n",
        "Tavg = 0\n",
        "count = 0  # To count valid temperature values\n",
        "\n",
        "for i in range(0, N):\n",
        "    if not np.isnan(T[i, 1]):  # Only include non-NaN values\n",
        "        Tavg = Tavg + T[i, 1]\n",
        "        count += 1\n",
        "\n",
        "if count > 0:\n",
        "    Tavg = Tavg / count\n",
        "else:\n",
        "    Tavg = np.nan  # Handle the case where there are no valid values\n",
        "\n",
        "   print(\"\\naveraged temperature is\", Tavg)\n",
        "# Note that the average is basically zero, as the temperature record is an anomaly from the mean.\n",
        "\n"
      ],
      "metadata": {
        "id": "rRXoPkMjhZaT"
      },
      "execution_count": null,
      "outputs": []
    },
    {
      "cell_type": "code",
      "source": [
        "# Calculate the mean using a numpy function, excluding NaNs:\n",
        "Tavg_numpy = np.nanmean(T[:, 1])\n",
        "print(\"averaged temperature calculated by numpy function is\", Tavg_numpy)"
      ],
      "metadata": {
        "id": "T2PepFHrhdEy"
      },
      "execution_count": null,
      "outputs": []
    },
    {
      "cell_type": "markdown",
      "source": [
        "## <font color=\"red\"> Exercise: for loop: </font>\n",
        "    \n",
        "<font color=\"red\"> Write a loop that sums the numbers from 1 to 2020\n",
        "</font>"
      ],
      "metadata": {
        "id": "7gC4kIw1awWp"
      }
    },
    {
      "cell_type": "code",
      "source": [
        "# code here:\n",
        "\n"
      ],
      "metadata": {
        "id": "OIc42EIAahZL"
      },
      "execution_count": null,
      "outputs": []
    },
    {
      "cell_type": "markdown",
      "source": [
        "## Plot the timeseries data:"
      ],
      "metadata": {
        "id": "UiuElihfa10B"
      }
    },
    {
      "cell_type": "code",
      "source": [
        "# plot it:\n",
        "# --------\n",
        "import matplotlib.pyplot as plt\n",
        "fig1= plt.figure(1,dpi=300)\n",
        "# python array indices are in square brackets and start from zero:\n",
        "plt.plot(T[:,0],T[:,1],color=\"b\")\n",
        "plt.xlabel(\"Year\")\n",
        "plt.ylabel(\"Temperature (C)\")\n",
        "plt.title(\"observed Temperature record\");"
      ],
      "metadata": {
        "id": "0wAWaT7Ua2PW"
      },
      "execution_count": null,
      "outputs": []
    },
    {
      "cell_type": "markdown",
      "source": [
        "## <font color=\"red\"> Exercise: line plot</font>\n",
        " <font color=\"red\">\n",
        "     plot $y(x)=\\sin(x)$ for $x=-\\pi$ to $\\pi$.\n",
        "   Hints: create an $x$ array (vector) using x=np.arange(-1,1.1,0.1), pi is given by np.pi, sine is given by np.sin()\n",
        "</font>"
      ],
      "metadata": {
        "id": "-dreuPzNbKRP"
      }
    },
    {
      "cell_type": "code",
      "source": [
        "# code here:\n",
        "\n",
        "XX"
      ],
      "metadata": {
        "id": "bne5nnHwa3_l"
      },
      "execution_count": null,
      "outputs": []
    },
    {
      "cell_type": "markdown",
      "source": [
        "## An if statement:"
      ],
      "metadata": {
        "id": "PB59DpACbPm5"
      }
    },
    {
      "cell_type": "code",
      "source": [
        "# first a simple if statement, note again use of indentation to define end of statement:\n",
        "if 2>1:\n",
        "    print(\"yes, 2>1\")\n",
        "else:\n",
        "    print(\"this will never be printed\")\n",
        "\n",
        "\n",
        "# find the warmest year using a combination of a loop and an if statement:\n",
        "Tmax=-100\n",
        "year_max=-100\n",
        "# note the indentations denoting the blocks of the for loop and if statement:\n",
        "for i in range(0,N):  # for loop starts here\n",
        "    if T[i,1]>Tmax:   # if statement starts here\n",
        "        Tmax=T[i,1]\n",
        "        year_max=T[i,0] # this is the last line of both the for loop and the if statement\n",
        "\n",
        "# note how the last element of the array may be referred to via a -1 index:\n",
        "print(\"The first and last years are\",T[0,0],T[-1,0])\n",
        "print(\"The maximum temperature is\", Tmax,\", and it occured in year\",year_max)"
      ],
      "metadata": {
        "id": "lbpxa_nObG3o"
      },
      "execution_count": null,
      "outputs": []
    },
    {
      "cell_type": "markdown",
      "source": [
        "## Plotting two time series on the same axes using 2 $y$-axes"
      ],
      "metadata": {
        "id": "QHKB7Nu8bbpB"
      }
    },
    {
      "cell_type": "code",
      "source": [
        "fig, ax1 = plt.subplots()\n",
        "\n",
        "color = 'tab:red'\n",
        "ax1.set_xlabel('year')\n",
        "ax1.set_ylabel('CO$_2$', color=color)\n",
        "ax1.plot(CO2[:,0], CO2[:,1], color=color)\n",
        "ax1.tick_params(axis='y', labelcolor=color)\n",
        "\n",
        "ax2 = ax1.twinx()  # instantiate a second axes that shares the same x-axis\n",
        "color = 'tab:blue'\n",
        "ax2.set_ylabel('Temperature', color=color)  # we already handled the x-label with ax1\n",
        "ax2.plot(T[:,0],T[:,1], color=color)\n",
        "ax2.tick_params(axis='y', labelcolor=color)\n",
        "\n",
        "fig.tight_layout()  # otherwise the right y-label is slightly clipped\n",
        "plt.show()\n"
      ],
      "metadata": {
        "id": "e2o2hjRZbe6P"
      },
      "execution_count": null,
      "outputs": []
    },
    {
      "cell_type": "markdown",
      "source": [
        "# <font color=\"red\">Exercise: Plotting two time series on the same axes using 2 $y$-axes<>/font\n",
        "\n",
        "insert a code cell below this point, and plot sine(x) and 5cos(x) from $x=0$ to $x=2\\pi$\n",
        "\n",
        "XX insert a code cell below this point."
      ],
      "metadata": {
        "id": "t0Waz3rsbmBp"
      }
    },
    {
      "cell_type": "code",
      "source": [
        "# code:\n",
        "\n"
      ],
      "metadata": {
        "id": "W0egYPtGiuxZ"
      },
      "execution_count": null,
      "outputs": []
    },
    {
      "cell_type": "markdown",
      "source": [
        "## Getting help from chatGPT\n",
        "\n",
        "#### (a) Provide the following instruction to chatGPT, copy paste the resulting code into a new code cell below, test the code and adjust it as needed to make it work.\n",
        "\n",
        "write a python code to create two numpy arrays with x going from -pi to +pi and y=3*exp(-x)*cos(x). plot y as a function of x using matplotlib. save the result to a pdf file named myfigureoutput.pdf."
      ],
      "metadata": {
        "id": "8AwSDqP2bpDT"
      }
    },
    {
      "cell_type": "code",
      "source": [
        "# Code:\n"
      ],
      "metadata": {
        "id": "mV6U2dlRiqqj"
      },
      "execution_count": null,
      "outputs": []
    },
    {
      "cell_type": "markdown",
      "source": [
        "#### (b) Ask chatGPT to correct the following buggy code, replace the code with the corrected one and make sure it runs."
      ],
      "metadata": {
        "id": "Vygknpuvbr6Y"
      }
    },
    {
      "cell_type": "code",
      "source": [
        "import numpy as np\n",
        "import matplotlib.pyplot as plt\n",
        "\n",
        "x=np.arange(-2*pi,pi,0.1)\n",
        "f=cos(x)\n",
        "plt.figure(1)\n",
        "plt.clf()\n",
        "plt.plot(x,f)\n",
        "# always label axes and provide titles:\n",
        "plt.xlabel('x')\n",
        "plt.ylabel(\"f')\n",
        "plt.title('f(x)=cos(3x)')\n",
        "plt.show()"
      ],
      "metadata": {
        "id": "7fOfHmk_bfWe"
      },
      "execution_count": null,
      "outputs": []
    },
    {
      "cell_type": "markdown",
      "source": [
        "## Using a built-in python function to calculate correlation"
      ],
      "metadata": {
        "id": "zbNlRS9AcB_-"
      }
    },
    {
      "cell_type": "code",
      "source": [
        "# remove mean from each time series using np.mean():\n",
        "# code\n",
        "\n"
      ],
      "metadata": {
        "id": "Ge6OkVT3bt0u"
      },
      "execution_count": null,
      "outputs": []
    },
    {
      "cell_type": "code",
      "source": [
        "\n",
        "# # Assuming T and CO2 are your temperature and CO2 data arrays, respectively\n",
        "\n",
        "# # Remove the mean from each time series using np.nanmean() to ignore NaN values\n",
        "# X = T[:, 1] - np.nanmean(T[:, 1])\n",
        "# Y = CO2[:, 1] - np.nanmean(CO2[:, 1])\n",
        "\n",
        "# # Check for NaNs and remove them from both series\n",
        "# mask = ~np.isnan(X) & ~np.isnan(Y)\n",
        "# X = X[mask]\n",
        "# Y = Y[mask]\n",
        "\n",
        "# # Calculate the correlation coefficient matrix\n",
        "# R = np.corrcoef(X, Y)\n",
        "\n",
        "# # Print the result\n",
        "# print(\"Correlation calculated by np.corrcoef is:\\n\", R)\n"
      ],
      "metadata": {
        "id": "QSBrMYAUj60A"
      },
      "execution_count": null,
      "outputs": []
    },
    {
      "cell_type": "markdown",
      "source": [
        "## <font color='red'> Exercise: writing a function and plotting</font>\n",
        "    \n",
        "<font color='red'>write a function that takes a time series $T_i$ and produces a smoothed version\n",
        "$$ \\overline{T}_i=0.25T_{i-1}+0.5T_{i}+0.25T_{i+1}$$\n",
        "and then plot the two on the same axes (no need to add a second vertical axis in this case). Note that you cannot calculate the smoothed version for the first and last points, and the smoothed time series therefore has 2 less points than the original one.\n",
        "</font>"
      ],
      "metadata": {
        "id": "Ew2G8j2YcXGl"
      }
    },
    {
      "cell_type": "code",
      "source": [
        "# insert your code here\n",
        "\n",
        "def smooth_timeseries(d):\n",
        "    d_smooth=np.zeros(len(d))\n",
        "    for i in XX:\n",
        "        d_smooth[i]=XX\n",
        "    return d_smooth[1:(len(d)-1)] # return only the interior points\n",
        "\n",
        "T_smooth=smooth_timeseries(XX)\n",
        "time_axis=XX # take only interior points of time axis too, for plotting\n",
        "\n",
        "# plot it:\n",
        "# --------\n",
        "fig1= plt.figure()\n",
        "# python array indices are in square brackets and start from zero:\n",
        "plt.plot(XX) # plot original time series\n",
        "plt.plot(XX) # plot smoothed one\n",
        "plt.xlabel(XX)\n",
        "plt.ylabel(XX)\n",
        "plt.title(XX);\n"
      ],
      "metadata": {
        "id": "WrfoPFI0cPZl"
      },
      "execution_count": null,
      "outputs": []
    },
    {
      "cell_type": "code",
      "source": [
        "# def smooth_time_series(T):\n",
        "#     \"\"\"\n",
        "#     Smooths the input time series using the formula:\n",
        "#     T_smoothed[i] = 0.25 * T[i-1] + 0.5 * T[i] + 0.25 * T[i+1]\n",
        "\n",
        "#     Parameters:\n",
        "#         T (numpy array): The original time series.\n",
        "\n",
        "#     Returns:\n",
        "#         numpy array: The smoothed time series.\n",
        "#     \"\"\"\n",
        "#     T_smoothed = np.zeros(len(T) - 2)  # Initialize the smoothed time series with 2 fewer points\n",
        "\n",
        "#     for i in range(1, len(T) - 1):\n",
        "#         T_smoothed[i - 1] = 0.25 * T[i - 1] + 0.5 * T[i] + 0.25 * T[i + 1]\n",
        "\n",
        "#     return T_smoothed\n",
        "\n",
        "# # Use the temperature data from T[:, 1]\n",
        "# temperature_data = T[:, 1]\n",
        "\n",
        "# # Get the smoothed time series\n",
        "# temperature_smoothed = smooth_time_series(temperature_data)\n",
        "\n",
        "# # Plot the original and smoothed time series\n",
        "# plt.figure(figsize=(10, 6))\n",
        "# plt.plot(temperature_data, label='Original Temperature Data')\n",
        "# plt.plot(range(1, len(temperature_data) - 1), temperature_smoothed, label='Smoothed Temperature Data', linestyle='--')\n",
        "\n",
        "# # Add labels and title\n",
        "# plt.xlabel('Index')\n",
        "# plt.ylabel('Temperature Anomaly')\n",
        "# plt.title('Original vs. Smoothed Temperature Data')\n",
        "# plt.legend()\n",
        "\n",
        "# # Show the plot\n",
        "# plt.grid(True)\n",
        "# plt.show()\n"
      ],
      "metadata": {
        "id": "OXHhYtkClWiH"
      },
      "execution_count": null,
      "outputs": []
    },
    {
      "cell_type": "markdown",
      "source": [
        "## Other python data types:\n",
        "\n",
        "We already covered numpy arrays, other important data types are:\n",
        "* lists\n",
        "* dictionaries\n",
        "* tuples"
      ],
      "metadata": {
        "id": "nXSVm0-3ciHd"
      }
    },
    {
      "cell_type": "code",
      "source": [
        "# create a list with the two data sets combined\n",
        "# an empty list:\n",
        "my_data_list=[]\n",
        "my_data_list.append(T)\n",
        "my_data_list.append(CO2)\n",
        "print(\"length of list is:\",len(my_data_list))\n",
        "print(\"type of first element of the list is:\",type(my_data_list[0]))\n",
        "print(\"shape of first element of the list is:\",my_data_list[0].shape)\n",
        "print(\"the [4:8,1] values from the first element of the list is:\",my_data_list[0][4:8,1])"
      ],
      "metadata": {
        "colab": {
          "base_uri": "https://localhost:8080/"
        },
        "id": "MLDHcyylcZz8",
        "outputId": "05cc0491-451d-4054-bebf-7ed5f9c52360"
      },
      "execution_count": null,
      "outputs": [
        {
          "output_type": "stream",
          "name": "stdout",
          "text": [
            "length of list is: 2\n",
            "type of first element of the list is: <class 'numpy.ndarray'>\n",
            "shape of first element of the list is: (812, 2)\n",
            "the [4:8,1] values from the first element of the list is: [-0.292 -0.297 -0.32  -0.467]\n"
          ]
        }
      ]
    },
    {
      "cell_type": "code",
      "source": [
        "# create a dictionary with the two data sets combined\n",
        "# an empty dictionary:\n",
        "my_data_dict={}\n",
        "my_data_dict[\"Temperature\"]=T\n",
        "my_data_dict[\"Carbon-dioxide\"]=CO2\n",
        "\n",
        "print(\"keys in dictionary are:\",my_data_dict.keys())\n",
        "print(\"the first few elements of the first data set are:\",my_data_dict[\"Temperature\"][0:5,0:2])"
      ],
      "metadata": {
        "colab": {
          "base_uri": "https://localhost:8080/"
        },
        "id": "DPZfO1Zsclfx",
        "outputId": "50be7af1-99af-4022-97f0-63234614a87f"
      },
      "execution_count": null,
      "outputs": [
        {
          "output_type": "stream",
          "name": "stdout",
          "text": [
            "keys in dictionary are: dict_keys(['Temperature', 'Carbon-dioxide'])\n",
            "the first few elements of the first data set are: [[ 1.850e+03 -4.180e-01]\n",
            " [ 1.851e+03 -2.330e-01]\n",
            " [ 1.852e+03 -2.290e-01]\n",
            " [ 1.853e+03 -2.700e-01]\n",
            " [ 1.854e+03 -2.920e-01]]\n"
          ]
        }
      ]
    },
    {
      "cell_type": "markdown",
      "source": [
        "## <font color='red'> Exercise: creating tuples and dictionaries</font>\n",
        "    \n",
        "<font color='red'>create a dictionary with two lists. one is the first 7 letters of the alphabet (as strings) with the key being the string 'letters'; the other the digits from 0 to 9 (as numbers), with the key being the string 'numbers'.\n",
        "    \n",
        "<font color='red'>then print the keys of the dictionary\n",
        "    \n",
        "<font color='red'>print the 2nd-6th elements of the first list in the dictionary.\n",
        "    \n",
        "<font color='red'>write a code to sum the 3rd-8th elements in the second list and print the result\n",
        "</font>"
      ],
      "metadata": {
        "id": "-XYUyD1rcr2Q"
      }
    },
    {
      "cell_type": "code",
      "source": [
        "# Code here:"
      ],
      "metadata": {
        "id": "9UcKNT8hcnnB"
      },
      "execution_count": null,
      "outputs": []
    },
    {
      "cell_type": "markdown",
      "source": [
        "# some tricky stuff\n",
        "\n",
        "### (1) Ranges in python do not include the last element!\n",
        "Note that in the last example, when we specify a range to be 0:5,0:2, the printed output is a 5X2 rather than a 6X3 as one might expect. This is part of the python specification, as demonstrated by the following loop:"
      ],
      "metadata": {
        "id": "qjzODOCccwry"
      }
    },
    {
      "cell_type": "code",
      "source": [
        "for i in range(2,6,1):\n",
        "    print(i)"
      ],
      "metadata": {
        "colab": {
          "base_uri": "https://localhost:8080/"
        },
        "id": "KMFk5iotctu4",
        "outputId": "77840b18-1914-4c67-d31f-b0e79cadba08"
      },
      "execution_count": null,
      "outputs": [
        {
          "output_type": "stream",
          "name": "stdout",
          "text": [
            "2\n",
            "3\n",
            "4\n",
            "5\n"
          ]
        }
      ]
    },
    {
      "cell_type": "markdown",
      "source": [
        "### (2) Making a copy of a python variable without getting in trouble:\n",
        "An assignment like\n",
        "B=A does not create a new variable B whose value is equal to that of A, but creates a pointer to A. This can lead to troube. Here are the details."
      ],
      "metadata": {
        "id": "IeaEWuxsc1xr"
      }
    },
    {
      "cell_type": "code",
      "source": [
        "# consider an arrays,\n",
        "A=np.array([2,3,4])\n",
        "print(\"A=\",A)\n",
        "print(\"now set B using B=A:\")\n",
        "B=A\n",
        "print(\"A=\",A,\",B=\",B)\n",
        "print(\"changing B using B[1]=17:\")\n",
        "B[1]=17\n",
        "print(\"changes also A:\")\n",
        "print(\"A=\",A,\",B=\",B)\n",
        "\n",
        "# in order to avoid this, create B using, for example:\n",
        "B=A*1"
      ],
      "metadata": {
        "colab": {
          "base_uri": "https://localhost:8080/"
        },
        "id": "uOpWAjqHcyzR",
        "outputId": "e99db786-2a7b-4b18-f691-c80c9386c985"
      },
      "execution_count": null,
      "outputs": [
        {
          "output_type": "stream",
          "name": "stdout",
          "text": [
            "A= [2 3 4]\n",
            "now set B using B=A:\n",
            "A= [2 3 4] ,B= [2 3 4]\n",
            "changing B using B[1]=17:\n",
            "changes also A:\n",
            "A= [ 2 17  4] ,B= [ 2 17  4]\n"
          ]
        }
      ]
    },
    {
      "cell_type": "markdown",
      "source": [
        "### <font color='red'> Exercise: using ranges and making copy of variables</font>\n",
        "    \n",
        "<font color='red'>(A) write a for loop that prints the numbers in the range -2 to 8<br>\n",
        "    (B) duplicate the above example, replacing B=A with B=A*1 and verify that this creates an independent array that is not modified when A is.\n",
        "</font>"
      ],
      "metadata": {
        "id": "7ziqD_CHc6y9"
      }
    },
    {
      "cell_type": "code",
      "source": [
        "# insert your code here"
      ],
      "metadata": {
        "id": "_3QyKRwgc4nZ"
      },
      "execution_count": null,
      "outputs": []
    }
  ]
}