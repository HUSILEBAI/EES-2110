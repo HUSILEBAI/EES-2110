{
  "nbformat": 4,
  "nbformat_minor": 0,
  "metadata": {
    "colab": {
      "provenance": [],
      "authorship_tag": "ABX9TyMslou7DatyfpUMcHekUyIl",
      "include_colab_link": true
    },
    "kernelspec": {
      "name": "python3",
      "display_name": "Python 3"
    },
    "language_info": {
      "name": "python"
    }
  },
  "cells": [
    {
      "cell_type": "markdown",
      "metadata": {
        "id": "view-in-github",
        "colab_type": "text"
      },
      "source": [
        "<a href=\"https://colab.research.google.com/github/HUSILEBAI/EES-2110/blob/main/EES_2110_Introduction_to_Python.ipynb\" target=\"_parent\"><img src=\"https://colab.research.google.com/assets/colab-badge.svg\" alt=\"Open In Colab\"/></a>"
      ]
    },
    {
      "cell_type": "markdown",
      "source": [
        "# <font color=green> Introduction to Climate Change </font>"
      ],
      "metadata": {
        "id": "2C1UehO7cfGI"
      }
    },
    {
      "cell_type": "code",
      "source": [
        "#connect with your google drive\n",
        "from google.colab import drive\n",
        "drive.mount('/content/drive')"
      ],
      "metadata": {
        "colab": {
          "base_uri": "https://localhost:8080/"
        },
        "id": "_EDx-P_WcpVu",
        "outputId": "5273332d-e3f3-443e-d57a-b086df574e4f"
      },
      "execution_count": 1,
      "outputs": [
        {
          "output_type": "stream",
          "name": "stdout",
          "text": [
            "Mounted at /content/drive\n"
          ]
        }
      ]
    },
    {
      "cell_type": "code",
      "source": [
        "import pandas as pd\n",
        "\n",
        "# Load the CSV files into DataFrames\n",
        "df_padded = pd.read_csv('padded_data.csv')\n",
        "\n",
        "# Display the first few rows of the padded data\n",
        "print(\"Padded Data:\")\n",
        "print(df_padded.head())\n"
      ],
      "metadata": {
        "colab": {
          "base_uri": "https://localhost:8080/"
        },
        "id": "zMfdbm9gbKlu",
        "outputId": "43beec34-ad5a-4c56-9e47-dc998d714f28"
      },
      "execution_count": 3,
      "outputs": [
        {
          "output_type": "stream",
          "name": "stdout",
          "text": [
            "Padded Data:\n",
            "   T_column1  T_column2  CO2_column1  CO2_column2\n",
            "0     1850.0     -0.418       1855.0        285.7\n",
            "1     1851.0     -0.233       1860.0        286.3\n",
            "2     1852.0     -0.229       1865.0        287.2\n",
            "3     1853.0     -0.270       1870.0        288.2\n",
            "4     1854.0     -0.292       1875.0        289.4\n"
          ]
        }
      ]
    },
    {
      "cell_type": "markdown",
      "source": [
        "# Introducing python! and other prerequisites\n",
        "\n",
        "### <font color=red> Please use the template below to answer the questions. \"XX\" indicates places where you need to complete/write code or add a discussion.</font>\n",
        "\n",
        "## Exercise: double-click this text to open the cell, add your name as a subtitle above using two hashtags, shift-enter to recompile.\n",
        "</font>\n",
        "\n",
        "## First, import needed libraries, introducing \"name spaces\":"
      ],
      "metadata": {
        "id": "spqfhc-ncQdH"
      }
    },
    {
      "cell_type": "code",
      "source": [
        "# This is a code cell. you need to place the cursor in it, and press shift-enter to run it.\n",
        "# *Do the same for all code and documentation (markdown) cells below*\n",
        "\n",
        "import numpy as np               # A library for all numerical caclulations\n",
        "import matplotlib.pyplot as plt  # for plotting\n",
        "import pandas as pd                 # for extracting stored variables\n",
        "\n",
        "print('I just ran my first Jupyter notebook cell!')"
      ],
      "metadata": {
        "colab": {
          "base_uri": "https://localhost:8080/"
        },
        "id": "bXlWQMsrcN4f",
        "outputId": "6e3a755e-8e6c-4951-824e-0d64be7796c3"
      },
      "execution_count": 4,
      "outputs": [
        {
          "output_type": "stream",
          "name": "stdout",
          "text": [
            "I just ran my first Jupyter notebook cell!\n"
          ]
        }
      ]
    },
    {
      "cell_type": "markdown",
      "source": [
        "## <font color=\"red\">  Exercise: printing</font>\n",
        "set a variable:\n",
        "\n",
        "myname='your name here'\n",
        "    \n",
        "print(\"my name is \",myname)\n",
        "</font>"
      ],
      "metadata": {
        "id": "ZLAHqk8caAvk"
      }
    },
    {
      "cell_type": "code",
      "source": [
        "# Example\n",
        "myname = 'Husile Bai'\n",
        "print(\"My name is\", myname)"
      ],
      "metadata": {
        "id": "hiuaXwGCgEjH",
        "outputId": "09a336ce-573f-494f-d8b8-e4464313cbb9",
        "colab": {
          "base_uri": "https://localhost:8080/"
        }
      },
      "execution_count": 7,
      "outputs": [
        {
          "output_type": "stream",
          "name": "stdout",
          "text": [
            "My name is Husile Bai\n"
          ]
        }
      ]
    },
    {
      "cell_type": "code",
      "source": [
        "# insert your code below this line; note that these two lines are a comment in a\n",
        "# code cell (they starts with #)\n",
        "\n",
        "XX"
      ],
      "metadata": {
        "id": "HaS8GZs5Z5oZ"
      },
      "execution_count": null,
      "outputs": []
    },
    {
      "cell_type": "markdown",
      "source": [
        "### <font color=\"red\">Exercise: creating a markdown cell with an equation.</font>\n",
        "add a cell below this point by clicking + on the menu bar;\n",
        "    \n",
        "change the cell type to markdown\n",
        "    \n",
        "insert a title using hashtag(s)\n",
        "    \n",
        "insert an equation, e.g., $E=mc^2$\n",
        "    \n",
        "change the color of the equation only to blue, with everything else in green\n",
        "    \n",
        "run the cell.\n",
        "\n",
        "XX insert new markdown cell below this point."
      ],
      "metadata": {
        "id": "2htD_jzQaM1Q"
      }
    },
    {
      "cell_type": "markdown",
      "source": [
        "## A for loop: reading a time series data and printing the data values"
      ],
      "metadata": {
        "id": "adXMgIDnaTvg"
      }
    },
    {
      "cell_type": "code",
      "source": [
        "\n",
        "# Load the padded data from the CSV file\n",
        "data_file = pd.read_csv('padded_data.csv')\n",
        "\n",
        "# data_file\n"
      ],
      "metadata": {
        "id": "ksMb914Kbz4d"
      },
      "execution_count": 14,
      "outputs": []
    },
    {
      "cell_type": "code",
      "source": [
        "# Extract the T and CO2 columns from the DataFrame\n",
        "T = data_file[['T_column1', 'T_column2']].values\n",
        "CO2 = data_file[['CO2_column1', 'CO2_column2']].values\n",
        "\n",
        "print(\"The dimensions of the input temperature data are:\", T.shape)\n",
        "# note that T is an array with two columns, one for years and one for temperature\n",
        "\n"
      ],
      "metadata": {
        "id": "XkNuy6hwg-cS",
        "outputId": "dbc6f8a1-fcf8-4cb2-c773-a9a1db3955e4",
        "colab": {
          "base_uri": "https://localhost:8080/"
        }
      },
      "execution_count": 15,
      "outputs": [
        {
          "output_type": "stream",
          "name": "stdout",
          "text": [
            "The dimensions of the input temperature data are: (812, 2)\n"
          ]
        }
      ]
    },
    {
      "cell_type": "code",
      "source": [
        "# Print data for a few years using a for loop:\n",
        "print(\"\\n year  , Temperature\")\n",
        "for i in range(0, 10):\n",
        "    print(T[i, 0], \",\", T[i, 1])\n",
        "# note that the for loop is indicated by the indentation\n",
        "# block, in the above case only a single line is in the loop.\n",
        "\n"
      ],
      "metadata": {
        "id": "vmS5tUG_hVQK"
      },
      "execution_count": null,
      "outputs": []
    },
    {
      "cell_type": "code",
      "source": [
        "# As another example of a for loop, calculate the mean temperature using a for loop:\n",
        "N = len(T[:, 0])\n",
        "Tavg = 0\n",
        "count = 0  # To count valid temperature values\n",
        "\n",
        "for i in range(0, N):\n",
        "    if not np.isnan(T[i, 1]):  # Only include non-NaN values\n",
        "        Tavg = Tavg + T[i, 1]\n",
        "        count += 1\n",
        "\n",
        "if count > 0:\n",
        "    Tavg = Tavg / count\n",
        "else:\n",
        "    Tavg = np.nan  # Handle the case where there are no valid values\n",
        "\n",
        "print(\"\\naveraged temperature is\", Tavg)\n",
        "# Note that the average is basically zero, as the temperature record is an anomaly from the mean.\n",
        "\n"
      ],
      "metadata": {
        "id": "rRXoPkMjhZaT"
      },
      "execution_count": null,
      "outputs": []
    },
    {
      "cell_type": "code",
      "source": [
        "# Calculate the mean using a numpy function, excluding NaNs:\n",
        "Tavg_numpy = np.nanmean(T[:, 1])\n",
        "print(\"averaged temperature calculated by numpy function is\", Tavg_numpy)"
      ],
      "metadata": {
        "id": "T2PepFHrhdEy"
      },
      "execution_count": null,
      "outputs": []
    },
    {
      "cell_type": "markdown",
      "source": [
        "## <font color=\"red\"> Exercise: for loop: </font>\n",
        "    \n",
        "<font color=\"red\"> Write a loop that sums the numbers from 1 to 2020\n",
        "</font>"
      ],
      "metadata": {
        "id": "7gC4kIw1awWp"
      }
    },
    {
      "cell_type": "code",
      "source": [
        "# code here:\n",
        "\n"
      ],
      "metadata": {
        "id": "OIc42EIAahZL"
      },
      "execution_count": 10,
      "outputs": []
    },
    {
      "cell_type": "markdown",
      "source": [
        "## Plot the timeseries data:"
      ],
      "metadata": {
        "id": "UiuElihfa10B"
      }
    },
    {
      "cell_type": "code",
      "source": [
        "# plot it:\n",
        "# --------\n",
        "import matplotlib.pyplot as plt\n",
        "fig1= plt.figure(1,dpi=300)\n",
        "# python array indices are in square brackets and start from zero:\n",
        "plt.plot(T[:,0],T[:,1],color=\"b\")\n",
        "plt.xlabel(\"Year\")\n",
        "plt.ylabel(\"Temperature (C)\")\n",
        "plt.title(\"observed Temperature record\");"
      ],
      "metadata": {
        "id": "0wAWaT7Ua2PW"
      },
      "execution_count": 12,
      "outputs": []
    },
    {
      "cell_type": "markdown",
      "source": [
        "## <font color=\"red\"> Exercise: line plot</font>\n",
        " <font color=\"red\">\n",
        "     plot $y(x)=\\sin(x)$ for $x=-\\pi$ to $\\pi$.\n",
        "   Hints: create an $x$ array (vector) using x=np.arange(-1,1.1,0.1), pi is given by np.pi, sine is given by np.sin()\n",
        "</font>"
      ],
      "metadata": {
        "id": "-dreuPzNbKRP"
      }
    },
    {
      "cell_type": "code",
      "source": [
        "# code here:\n",
        "\n",
        "XX"
      ],
      "metadata": {
        "id": "bne5nnHwa3_l"
      },
      "execution_count": null,
      "outputs": []
    },
    {
      "cell_type": "markdown",
      "source": [
        "## An if statement:"
      ],
      "metadata": {
        "id": "PB59DpACbPm5"
      }
    },
    {
      "cell_type": "code",
      "source": [
        "# first a simple if statement, note again use of indentation to define end of statement:\n",
        "if 2>1:\n",
        "    print(\"yes, 2>1\")\n",
        "else:\n",
        "    print(\"this will never be printed\")\n",
        "\n",
        "\n",
        "# find the warmest year using a combination of a loop and an if statement:\n",
        "Tmax=-100\n",
        "year_max=-100\n",
        "# note the indentations denoting the blocks of the for loop and if statement:\n",
        "for i in range(0,N):  # for loop starts here\n",
        "    if T[i,1]>Tmax:   # if statement starts here\n",
        "        Tmax=T[i,1]\n",
        "        year_max=T[i,0] # this is the last line of both the for loop and the if statement\n",
        "\n",
        "# note how the last element of the array may be referred to via a -1 index:\n",
        "print(\"The first and last years are\",T[0,0],T[-1,0])\n",
        "print(\"The maximum temperature is\", Tmax,\", and it occured in year\",year_max)"
      ],
      "metadata": {
        "colab": {
          "base_uri": "https://localhost:8080/"
        },
        "id": "lbpxa_nObG3o",
        "outputId": "33435183-931e-4a29-ec42-ddc2e4bba104"
      },
      "execution_count": null,
      "outputs": [
        {
          "output_type": "stream",
          "name": "stdout",
          "text": [
            "yes, 2>1\n",
            "The first and last years are 1850.0 nan\n",
            "The maximum temperature is 1.1 , and it occured in year 2023.0\n"
          ]
        }
      ]
    },
    {
      "cell_type": "markdown",
      "source": [
        "## <font color='red'> Exercise: for and if</font>\n",
        "    \n",
        "<font color='red'>write a for loop to calculate the root mean square of the temperature record using the formula\n",
        "$$ rms(T)=\\sqrt{\\frac1N\\sum_i T_i^2}$$\n",
        "and then use an if statement to test if the rms is larger than the difference between the temperature at the end and the temperature at the beginning of the series, and print an appropriate message within the if statement:\n",
        "\n",
        "if $rms(T)>(T_{last}-T_{first})$ <br>\n",
        "&nbsp;&nbsp;&nbsp;   print a message that the rms is larger than the difference<br>\n",
        "else<br>\n",
        "&nbsp;&nbsp;&nbsp;   print a message that the rms is smaller<br>\n",
        "</font>"
      ],
      "metadata": {
        "id": "uOo0KEgdbV4l"
      }
    },
    {
      "cell_type": "code",
      "source": [
        "# insert your code below:\n",
        "\n",
        "N=len(T[:,1])\n",
        "myrms=0.0\n",
        "for i in XX:\n",
        "    myrms=myrms+XX\n",
        "myrms=np.sqrt(myrms/N)\n",
        "\n",
        "if XX:\n",
        "    print XX\n",
        "else:\n",
        "    print XX\n"
      ],
      "metadata": {
        "colab": {
          "base_uri": "https://localhost:8080/",
          "height": 122
        },
        "id": "D3Aiw3JRbSZl",
        "outputId": "2ba086df-ace4-4fba-8adf-e7203c226b56"
      },
      "execution_count": null,
      "outputs": [
        {
          "output_type": "error",
          "ename": "SyntaxError",
          "evalue": "Missing parentheses in call to 'print'. Did you mean print(...)? (<ipython-input-16-fec3d9873465>, line 10)",
          "traceback": [
            "\u001b[0;36m  File \u001b[0;32m\"<ipython-input-16-fec3d9873465>\"\u001b[0;36m, line \u001b[0;32m10\u001b[0m\n\u001b[0;31m    print XX\u001b[0m\n\u001b[0m    ^\u001b[0m\n\u001b[0;31mSyntaxError\u001b[0m\u001b[0;31m:\u001b[0m Missing parentheses in call to 'print'. Did you mean print(...)?\n"
          ]
        }
      ]
    },
    {
      "cell_type": "markdown",
      "source": [
        "## Plotting two time series on the same axes using 2 $y$-axes"
      ],
      "metadata": {
        "id": "QHKB7Nu8bbpB"
      }
    },
    {
      "cell_type": "code",
      "source": [
        "fig, ax1 = plt.subplots()\n",
        "\n",
        "color = 'tab:red'\n",
        "ax1.set_xlabel('year')\n",
        "ax1.set_ylabel('CO$_2$', color=color)\n",
        "ax1.plot(CO2[:,0], CO2[:,1], color=color)\n",
        "ax1.tick_params(axis='y', labelcolor=color)\n",
        "\n",
        "ax2 = ax1.twinx()  # instantiate a second axes that shares the same x-axis\n",
        "color = 'tab:blue'\n",
        "ax2.set_ylabel('Temperature', color=color)  # we already handled the x-label with ax1\n",
        "ax2.plot(T[:,0],T[:,1], color=color)\n",
        "ax2.tick_params(axis='y', labelcolor=color)\n",
        "\n",
        "fig.tight_layout()  # otherwise the right y-label is slightly clipped\n",
        "plt.show()\n"
      ],
      "metadata": {
        "colab": {
          "base_uri": "https://localhost:8080/",
          "height": 486
        },
        "id": "e2o2hjRZbe6P",
        "outputId": "a5dc5faa-e7fb-46ee-d878-104b2c47a002"
      },
      "execution_count": null,
      "outputs": [
        {
          "output_type": "display_data",
          "data": {
            "text/plain": [
              "<Figure size 640x480 with 2 Axes>"
            ],
            "image/png": "[encoded data removed]"
          },
          "metadata": {}
        }
      ]
    },
    {
      "cell_type": "markdown",
      "source": [
        "# <font color=\"red\">Exercise: Plotting two time series on the same axes using 2 $y$-axes<>/font\n",
        "\n",
        "insert a code cell below this point, and plot sine(x) and 5cos(x) from $x=0$ to $x=2\\pi$\n",
        "\n",
        "XX insert a code cell below this point."
      ],
      "metadata": {
        "id": "t0Waz3rsbmBp"
      }
    },
    {
      "cell_type": "markdown",
      "source": [
        "## Getting help from chatGPT\n",
        "\n",
        "#### (a) Provide the following instruction to chatGPT, copy paste the resulting code into a new code cell below, test the code and adjust it as needed to make it work.\n",
        "\n",
        "write a python code to create two numpy arrays with x going from -pi to +pi and y=3*exp(-x)*cos(x). plot y as a function of x using matplotlib. save the result to a pdf file named myfigureoutput.pdf."
      ],
      "metadata": {
        "id": "8AwSDqP2bpDT"
      }
    },
    {
      "cell_type": "markdown",
      "source": [
        "#### (b) Ask chatGPT to correct the following buggy code, replace the code with the corrected one and make sure it runs."
      ],
      "metadata": {
        "id": "Vygknpuvbr6Y"
      }
    },
    {
      "cell_type": "code",
      "source": [
        "import numpy as np\n",
        "import matplotlib.pyplot as plt\n",
        "\n",
        "x=np.arange(-2*np.pi,np.pi,0.1)\n",
        "f=np.cos(x)\n",
        "plt.figure(1)\n",
        "plt.clf()\n",
        "plt.plot(x,f)\n",
        "# always label axes and provide titles:\n",
        "plt.xlabel('x')\n",
        "plt.ylabel('f')\n",
        "plt.title('f(x)=cos(3x)')\n",
        "plt.show()"
      ],
      "metadata": {
        "colab": {
          "base_uri": "https://localhost:8080/",
          "height": 472
        },
        "id": "7fOfHmk_bfWe",
        "outputId": "9eb5437e-c849-4d1f-d32b-3572698e39ff"
      },
      "execution_count": null,
      "outputs": [
        {
          "output_type": "display_data",
          "data": {
            "text/plain": [
              "<Figure size 640x480 with 1 Axes>"
            ],
            "image/png": "[encoded data removed]"
          },
          "metadata": {}
        }
      ]
    },
    {
      "cell_type": "markdown",
      "source": [
        "## Using a built-in python function to calculate correlation"
      ],
      "metadata": {
        "id": "zbNlRS9AcB_-"
      }
    },
    {
      "cell_type": "code",
      "source": [
        "# remove mean from each time series using np.mean():\n",
        "X=T[:,1]-XX\n",
        "Y=CO2[:,1]-XX\n",
        "\n",
        "R=np.corrcoef(X,Y)\n",
        "\n",
        "print(\"correlation calculated by np.corrcoef is:\\n\",R)"
      ],
      "metadata": {
        "id": "Ge6OkVT3bt0u"
      },
      "execution_count": null,
      "outputs": []
    },
    {
      "cell_type": "markdown",
      "source": [
        "## Writing a python function that calculates correlation\n",
        "\n",
        "using the formula:\n",
        "$R=\\frac{\\sum X_iY_i}{\\sqrt{\\sum X_i^2}\\sqrt{\\sum Y_i^2}}$\n",
        "\n",
        "(note how the documentation cells can include equations!)"
      ],
      "metadata": {
        "id": "Z5ySUUfZcMJ1"
      }
    },
    {
      "cell_type": "code",
      "source": [
        "# here is how one defines a function:\n",
        "def my_calc_correlation(X,Y):\n",
        "    A=0\n",
        "    B=0\n",
        "    C=0\n",
        "    for i in range(0,len(X)):\n",
        "        A=A+X[i]*Y[i]\n",
        "        B=B+X[i]*X[i]\n",
        "        C=C+Y[i]*Y[i]\n",
        "    R=A/(np.sqrt(B)*np.sqrt(C))\n",
        "    return R\n",
        "\n",
        "# and now we can use this function as follows\n",
        "# (we use the fact that the mean has been renoved from X,Y)\n",
        "my_R=my_calc_correlation(X,Y)\n",
        "print(\"correlation calculated by my function is:\\n\",my_R)"
      ],
      "metadata": {
        "id": "UCoFnM72cEmU"
      },
      "execution_count": null,
      "outputs": []
    },
    {
      "cell_type": "markdown",
      "source": [
        "## <font color='red'> Exercise: writing a function and plotting</font>\n",
        "    \n",
        "<font color='red'>write a function that takes a time series $T_i$ and produces a smoothed version\n",
        "$$ \\overline{T}_i=0.25T_{i-1}+0.5T_{i}+0.25T_{i+1}$$\n",
        "and then plot the two on the same axes (no need to add a second vertical axis in this case). Note that you cannot calculate the smoothed version for the first and last points, and the smoothed time series therefore has 2 less points than the original one.\n",
        "</font>"
      ],
      "metadata": {
        "id": "Ew2G8j2YcXGl"
      }
    },
    {
      "cell_type": "code",
      "source": [
        "# insert your code here\n",
        "\n",
        "def smooth_timeseries(d):\n",
        "    d_smooth=np.zeros(len(d))\n",
        "    for i in XX:\n",
        "        d_smooth[i]=XX\n",
        "    return d_smooth[1:(len(d)-1)] # return only the interior points\n",
        "\n",
        "T_smooth=smooth_timeseries(XX)\n",
        "time_axis=XX # take only interior points of time axis too, for plotting\n",
        "\n",
        "# plot it:\n",
        "# --------\n",
        "fig1= plt.figure()\n",
        "# python array indices are in square brackets and start from zero:\n",
        "plt.plot(XX) # plot original time series\n",
        "plt.plot(XX) # plot smoothed one\n",
        "plt.xlabel(XX)\n",
        "plt.ylabel(XX)\n",
        "plt.title(XX);\n"
      ],
      "metadata": {
        "id": "WrfoPFI0cPZl"
      },
      "execution_count": null,
      "outputs": []
    },
    {
      "cell_type": "markdown",
      "source": [
        "## Other python data types:\n",
        "\n",
        "We already covered numpy arrays, other important data types are:\n",
        "* lists\n",
        "* dictionaries\n",
        "* tuples"
      ],
      "metadata": {
        "id": "nXSVm0-3ciHd"
      }
    },
    {
      "cell_type": "code",
      "source": [
        "# create a list with the two data sets combined\n",
        "# an empty list:\n",
        "my_data_list=[]\n",
        "my_data_list.append(T)\n",
        "my_data_list.append(CO2)\n",
        "print(\"length of list is:\",len(my_data_list))\n",
        "print(\"type of first element of the list is:\",type(my_data_list[0]))\n",
        "print(\"shape of first element of the list is:\",my_data_list[0].shape)\n",
        "print(\"the [4:8,1] values from the first element of the list is:\",my_data_list[0][4:8,1])"
      ],
      "metadata": {
        "colab": {
          "base_uri": "https://localhost:8080/"
        },
        "id": "MLDHcyylcZz8",
        "outputId": "67eab5fd-f875-4c78-fc1c-357d558242d9"
      },
      "execution_count": null,
      "outputs": [
        {
          "output_type": "stream",
          "name": "stdout",
          "text": [
            "length of list is: 2\n",
            "type of first element of the list is: <class 'numpy.ndarray'>\n",
            "shape of first element of the list is: (174, 2)\n",
            "the [4:8,1] values from the first element of the list is: [-0.292 -0.297 -0.32  -0.467]\n"
          ]
        }
      ]
    },
    {
      "cell_type": "code",
      "source": [
        "# create a dictionary with the two data sets combined\n",
        "# an empty dictionary:\n",
        "my_data_dict={}\n",
        "my_data_dict[\"Temperature\"]=T\n",
        "my_data_dict[\"Carbon-dioxide\"]=CO2\n",
        "\n",
        "print(\"keys in dictionary are:\",my_data_dict.keys())\n",
        "print(\"the first few elements of the first data set are:\",my_data_dict[\"Temperature\"][0:5,0:2])"
      ],
      "metadata": {
        "colab": {
          "base_uri": "https://localhost:8080/"
        },
        "id": "DPZfO1Zsclfx",
        "outputId": "6e22dbee-bc32-4a08-d315-6cc47131c7d3"
      },
      "execution_count": null,
      "outputs": [
        {
          "output_type": "stream",
          "name": "stdout",
          "text": [
            "keys in dictionary are: dict_keys(['Temperature', 'Carbon-dioxide'])\n",
            "the first few elements of the first data set are: [[ 1.850e+03 -4.180e-01]\n",
            " [ 1.851e+03 -2.330e-01]\n",
            " [ 1.852e+03 -2.290e-01]\n",
            " [ 1.853e+03 -2.700e-01]\n",
            " [ 1.854e+03 -2.920e-01]]\n"
          ]
        }
      ]
    },
    {
      "cell_type": "markdown",
      "source": [
        "## <font color='red'> Exercise: creating tuples and dictionaries</font>\n",
        "    \n",
        "<font color='red'>create a dictionary with two lists. one is the first 7 letters of the alphabet (as strings) with the key being the string 'letters'; the other the digits from 0 to 9 (as numbers), with the key being the string 'numbers'.\n",
        "    \n",
        "<font color='red'>then print the keys of the dictionary\n",
        "    \n",
        "<font color='red'>print the 2nd-6th elements of the first list in the dictionary.\n",
        "    \n",
        "<font color='red'>write a code to sum the 3rd-8th elements in the second list and print the result\n",
        "</font>"
      ],
      "metadata": {
        "id": "-XYUyD1rcr2Q"
      }
    },
    {
      "cell_type": "code",
      "source": [
        "# Code here:"
      ],
      "metadata": {
        "id": "9UcKNT8hcnnB"
      },
      "execution_count": null,
      "outputs": []
    },
    {
      "cell_type": "markdown",
      "source": [
        "# some tricky stuff\n",
        "\n",
        "### (1) Ranges in python do not include the last element!\n",
        "Note that in the last example, when we specify a range to be 0:5,0:2, the printed output is a 5X2 rather than a 6X3 as one might expect. This is part of the python specification, as demonstrated by the following loop:"
      ],
      "metadata": {
        "id": "qjzODOCccwry"
      }
    },
    {
      "cell_type": "code",
      "source": [
        "for i in range(2,6,1):\n",
        "    print(i)"
      ],
      "metadata": {
        "colab": {
          "base_uri": "https://localhost:8080/"
        },
        "id": "KMFk5iotctu4",
        "outputId": "77840b18-1914-4c67-d31f-b0e79cadba08"
      },
      "execution_count": null,
      "outputs": [
        {
          "output_type": "stream",
          "name": "stdout",
          "text": [
            "2\n",
            "3\n",
            "4\n",
            "5\n"
          ]
        }
      ]
    },
    {
      "cell_type": "markdown",
      "source": [
        "### (2) Making a copy of a python variable without getting in trouble:\n",
        "An assignment like\n",
        "B=A does not create a new variable B whose value is equal to that of A, but creates a pointer to A. This can lead to troube. Here are the details."
      ],
      "metadata": {
        "id": "IeaEWuxsc1xr"
      }
    },
    {
      "cell_type": "code",
      "source": [
        "# consider an arrays,\n",
        "A=np.array([2,3,4])\n",
        "print(\"A=\",A)\n",
        "print(\"now set B using B=A:\")\n",
        "B=A\n",
        "print(\"A=\",A,\",B=\",B)\n",
        "print(\"changing B using B[1]=17:\")\n",
        "B[1]=17\n",
        "print(\"changes also A:\")\n",
        "print(\"A=\",A,\",B=\",B)\n",
        "\n",
        "# in order to avoid this, create B using, for example:\n",
        "B=A*1"
      ],
      "metadata": {
        "colab": {
          "base_uri": "https://localhost:8080/"
        },
        "id": "uOpWAjqHcyzR",
        "outputId": "e99db786-2a7b-4b18-f691-c80c9386c985"
      },
      "execution_count": null,
      "outputs": [
        {
          "output_type": "stream",
          "name": "stdout",
          "text": [
            "A= [2 3 4]\n",
            "now set B using B=A:\n",
            "A= [2 3 4] ,B= [2 3 4]\n",
            "changing B using B[1]=17:\n",
            "changes also A:\n",
            "A= [ 2 17  4] ,B= [ 2 17  4]\n"
          ]
        }
      ]
    },
    {
      "cell_type": "markdown",
      "source": [
        "### <font color='red'> Exercise: using ranges and making copy of variables</font>\n",
        "    \n",
        "<font color='red'>(A) write a for loop that prints the numbers in the range -2 to 8<br>\n",
        "    (B) duplicate the above example, replacing B=A with B=A*1 and verify that this creates an independent array that is not modified when A is.\n",
        "</font>"
      ],
      "metadata": {
        "id": "7ziqD_CHc6y9"
      }
    },
    {
      "cell_type": "code",
      "source": [
        "# insert your code here"
      ],
      "metadata": {
        "id": "_3QyKRwgc4nZ"
      },
      "execution_count": null,
      "outputs": []
    },
    {
      "cell_type": "markdown",
      "source": [
        "## <font color='red'> Mathematical preliminaries</font>\n",
        "\n",
        "Be sure you are comfortable solving these, as this material will be used during the semester.\n",
        "\n",
        "(1) what is the derivative with respect to $t$ of\n",
        "\n",
        "(1a) $ae^{\\alpha t}$,\n",
        "    \n",
        "(1b) $a\\sin(bt)$,\n",
        "    \n",
        "(2) Calculate the integral $\\int_0^1 \\cos(2t)$\n",
        "\n",
        "(3) what is the solution to each of the two following basic differential equation problems,\n",
        "\\begin{align*}\n",
        "  \\frac{dx}{dt}&=\\alpha x,\\quad \\text{with } x(0)=-3\\\\\n",
        "  \\frac{d^2x}{dt^2}&=-\\omega^2 x,\\quad \\text{with } x(0)=-3, \\text{ and } \\frac{dx(0)}{dt}=0\n",
        "\\end{align*}</font>"
      ],
      "metadata": {
        "id": "rmpKbT7xc9SH"
      }
    },
    {
      "cell_type": "markdown",
      "source": [
        "## Your solution here:\n",
        "\n",
        "1a XX\n",
        "\n",
        "1b XX\n",
        "\n",
        "2 XX\n",
        "\n",
        "3 XX"
      ],
      "metadata": {
        "id": "1ljSy0NldDgN"
      }
    },
    {
      "cell_type": "markdown",
      "source": [
        "<font color=\"blue\">\n",
        "\n",
        "### How to download a Jupyter notebook as a PDF:\n",
        "In JupyterHub, go to File ->  Save and Export Notebook As... -> PDF\n",
        "\n",
        "### Before downloading and submitting Jupyter notebook:\n",
        "With the notebook active in JupyterHub go to Kernel -> \"Restart Kernel\" and \"Run All Cells.\" This ensures that the code output is up-to-date with what you have written in each cell."
      ],
      "metadata": {
        "id": "WXZrHqhedJkg"
      }
    },
    {
      "cell_type": "code",
      "source": [],
      "metadata": {
        "id": "YbBrlX4tc8ub"
      },
      "execution_count": null,
      "outputs": []
    }
  ]
}